{
 "cells": [
  {
   "cell_type": "code",
   "execution_count": 3,
   "id": "5246f903",
   "metadata": {},
   "outputs": [],
   "source": [
    "import pandas as pd\n",
    "import numpy as np\n",
    "import seaborn as sns\n",
    "import matplotlib.pyplot as plt\n",
    "import warnings\n",
    "warnings.filterwarnings(\"ignore\")"
   ]
  },
  {
   "cell_type": "markdown",
   "id": "cb28b82e",
   "metadata": {},
   "source": [
    "## Preface of the data\n",
    "All Indian Premier League Cricket matches between 2008 and 2016.\n",
    "\n",
    "This is the ball by ball data of all the IPL cricket matches till season 9.\n",
    "\n",
    "The dataset contains 2 files: deliveries.csv and matches.csv.\n",
    "\n",
    "matches.csv contains details related to the match such as location, contesting teams, umpires, results, etc.\n",
    "\n",
    "deliveries.csv is the ball-by-ball data of all the IPL matches including data of the batting team, batsman, bowler, non-striker, runs scored, etc."
   ]
  },
  {
   "cell_type": "markdown",
   "id": "5a3f1380",
   "metadata": {},
   "source": [
    "## Objective: \n",
    "Predicting the result of your favourite team based on past data, Visualizations, Perspectives, etc."
   ]
  },
  {
   "cell_type": "code",
   "execution_count": 4,
   "id": "b2019be6",
   "metadata": {},
   "outputs": [],
   "source": [
    "df1 = pd.read_csv('matches.csv')\n",
    "df2 = pd.read_csv('deliveries.csv')"
   ]
  },
  {
   "cell_type": "code",
   "execution_count": 5,
   "id": "29f047db",
   "metadata": {},
   "outputs": [
    {
     "data": {
      "text/html": [
       "<div>\n",
       "<style scoped>\n",
       "    .dataframe tbody tr th:only-of-type {\n",
       "        vertical-align: middle;\n",
       "    }\n",
       "\n",
       "    .dataframe tbody tr th {\n",
       "        vertical-align: top;\n",
       "    }\n",
       "\n",
       "    .dataframe thead th {\n",
       "        text-align: right;\n",
       "    }\n",
       "</style>\n",
       "<table border=\"1\" class=\"dataframe\">\n",
       "  <thead>\n",
       "    <tr style=\"text-align: right;\">\n",
       "      <th></th>\n",
       "      <th>id</th>\n",
       "      <th>season</th>\n",
       "      <th>city</th>\n",
       "      <th>date</th>\n",
       "      <th>team1</th>\n",
       "      <th>team2</th>\n",
       "      <th>toss_winner</th>\n",
       "      <th>toss_decision</th>\n",
       "      <th>result</th>\n",
       "      <th>dl_applied</th>\n",
       "      <th>winner</th>\n",
       "      <th>win_by_runs</th>\n",
       "      <th>win_by_wickets</th>\n",
       "      <th>player_of_match</th>\n",
       "      <th>venue</th>\n",
       "      <th>umpire1</th>\n",
       "      <th>umpire2</th>\n",
       "      <th>umpire3</th>\n",
       "    </tr>\n",
       "  </thead>\n",
       "  <tbody>\n",
       "    <tr>\n",
       "      <th>0</th>\n",
       "      <td>1</td>\n",
       "      <td>2017</td>\n",
       "      <td>Hyderabad</td>\n",
       "      <td>2017-04-05</td>\n",
       "      <td>Sunrisers Hyderabad</td>\n",
       "      <td>Royal Challengers Bangalore</td>\n",
       "      <td>Royal Challengers Bangalore</td>\n",
       "      <td>field</td>\n",
       "      <td>normal</td>\n",
       "      <td>0</td>\n",
       "      <td>Sunrisers Hyderabad</td>\n",
       "      <td>35</td>\n",
       "      <td>0</td>\n",
       "      <td>Yuvraj Singh</td>\n",
       "      <td>Rajiv Gandhi International Stadium, Uppal</td>\n",
       "      <td>AY Dandekar</td>\n",
       "      <td>NJ Llong</td>\n",
       "      <td>NaN</td>\n",
       "    </tr>\n",
       "    <tr>\n",
       "      <th>1</th>\n",
       "      <td>2</td>\n",
       "      <td>2017</td>\n",
       "      <td>Pune</td>\n",
       "      <td>2017-04-06</td>\n",
       "      <td>Mumbai Indians</td>\n",
       "      <td>Rising Pune Supergiant</td>\n",
       "      <td>Rising Pune Supergiant</td>\n",
       "      <td>field</td>\n",
       "      <td>normal</td>\n",
       "      <td>0</td>\n",
       "      <td>Rising Pune Supergiant</td>\n",
       "      <td>0</td>\n",
       "      <td>7</td>\n",
       "      <td>SPD Smith</td>\n",
       "      <td>Maharashtra Cricket Association Stadium</td>\n",
       "      <td>A Nand Kishore</td>\n",
       "      <td>S Ravi</td>\n",
       "      <td>NaN</td>\n",
       "    </tr>\n",
       "    <tr>\n",
       "      <th>2</th>\n",
       "      <td>3</td>\n",
       "      <td>2017</td>\n",
       "      <td>Rajkot</td>\n",
       "      <td>2017-04-07</td>\n",
       "      <td>Gujarat Lions</td>\n",
       "      <td>Kolkata Knight Riders</td>\n",
       "      <td>Kolkata Knight Riders</td>\n",
       "      <td>field</td>\n",
       "      <td>normal</td>\n",
       "      <td>0</td>\n",
       "      <td>Kolkata Knight Riders</td>\n",
       "      <td>0</td>\n",
       "      <td>10</td>\n",
       "      <td>CA Lynn</td>\n",
       "      <td>Saurashtra Cricket Association Stadium</td>\n",
       "      <td>Nitin Menon</td>\n",
       "      <td>CK Nandan</td>\n",
       "      <td>NaN</td>\n",
       "    </tr>\n",
       "    <tr>\n",
       "      <th>3</th>\n",
       "      <td>4</td>\n",
       "      <td>2017</td>\n",
       "      <td>Indore</td>\n",
       "      <td>2017-04-08</td>\n",
       "      <td>Rising Pune Supergiant</td>\n",
       "      <td>Kings XI Punjab</td>\n",
       "      <td>Kings XI Punjab</td>\n",
       "      <td>field</td>\n",
       "      <td>normal</td>\n",
       "      <td>0</td>\n",
       "      <td>Kings XI Punjab</td>\n",
       "      <td>0</td>\n",
       "      <td>6</td>\n",
       "      <td>GJ Maxwell</td>\n",
       "      <td>Holkar Cricket Stadium</td>\n",
       "      <td>AK Chaudhary</td>\n",
       "      <td>C Shamshuddin</td>\n",
       "      <td>NaN</td>\n",
       "    </tr>\n",
       "    <tr>\n",
       "      <th>4</th>\n",
       "      <td>5</td>\n",
       "      <td>2017</td>\n",
       "      <td>Bangalore</td>\n",
       "      <td>2017-04-08</td>\n",
       "      <td>Royal Challengers Bangalore</td>\n",
       "      <td>Delhi Daredevils</td>\n",
       "      <td>Royal Challengers Bangalore</td>\n",
       "      <td>bat</td>\n",
       "      <td>normal</td>\n",
       "      <td>0</td>\n",
       "      <td>Royal Challengers Bangalore</td>\n",
       "      <td>15</td>\n",
       "      <td>0</td>\n",
       "      <td>KM Jadhav</td>\n",
       "      <td>M Chinnaswamy Stadium</td>\n",
       "      <td>NaN</td>\n",
       "      <td>NaN</td>\n",
       "      <td>NaN</td>\n",
       "    </tr>\n",
       "  </tbody>\n",
       "</table>\n",
       "</div>"
      ],
      "text/plain": [
       "   id  season       city        date                        team1  \\\n",
       "0   1    2017  Hyderabad  2017-04-05          Sunrisers Hyderabad   \n",
       "1   2    2017       Pune  2017-04-06               Mumbai Indians   \n",
       "2   3    2017     Rajkot  2017-04-07                Gujarat Lions   \n",
       "3   4    2017     Indore  2017-04-08       Rising Pune Supergiant   \n",
       "4   5    2017  Bangalore  2017-04-08  Royal Challengers Bangalore   \n",
       "\n",
       "                         team2                  toss_winner toss_decision  \\\n",
       "0  Royal Challengers Bangalore  Royal Challengers Bangalore         field   \n",
       "1       Rising Pune Supergiant       Rising Pune Supergiant         field   \n",
       "2        Kolkata Knight Riders        Kolkata Knight Riders         field   \n",
       "3              Kings XI Punjab              Kings XI Punjab         field   \n",
       "4             Delhi Daredevils  Royal Challengers Bangalore           bat   \n",
       "\n",
       "   result  dl_applied                       winner  win_by_runs  \\\n",
       "0  normal           0          Sunrisers Hyderabad           35   \n",
       "1  normal           0       Rising Pune Supergiant            0   \n",
       "2  normal           0        Kolkata Knight Riders            0   \n",
       "3  normal           0              Kings XI Punjab            0   \n",
       "4  normal           0  Royal Challengers Bangalore           15   \n",
       "\n",
       "   win_by_wickets player_of_match                                      venue  \\\n",
       "0               0    Yuvraj Singh  Rajiv Gandhi International Stadium, Uppal   \n",
       "1               7       SPD Smith    Maharashtra Cricket Association Stadium   \n",
       "2              10         CA Lynn     Saurashtra Cricket Association Stadium   \n",
       "3               6      GJ Maxwell                     Holkar Cricket Stadium   \n",
       "4               0       KM Jadhav                      M Chinnaswamy Stadium   \n",
       "\n",
       "          umpire1        umpire2  umpire3  \n",
       "0     AY Dandekar       NJ Llong      NaN  \n",
       "1  A Nand Kishore         S Ravi      NaN  \n",
       "2     Nitin Menon      CK Nandan      NaN  \n",
       "3    AK Chaudhary  C Shamshuddin      NaN  \n",
       "4             NaN            NaN      NaN  "
      ]
     },
     "execution_count": 5,
     "metadata": {},
     "output_type": "execute_result"
    }
   ],
   "source": [
    "df1.head()"
   ]
  },
  {
   "cell_type": "code",
   "execution_count": 6,
   "id": "66cbd0e2",
   "metadata": {},
   "outputs": [
    {
     "data": {
      "text/html": [
       "<div>\n",
       "<style scoped>\n",
       "    .dataframe tbody tr th:only-of-type {\n",
       "        vertical-align: middle;\n",
       "    }\n",
       "\n",
       "    .dataframe tbody tr th {\n",
       "        vertical-align: top;\n",
       "    }\n",
       "\n",
       "    .dataframe thead th {\n",
       "        text-align: right;\n",
       "    }\n",
       "</style>\n",
       "<table border=\"1\" class=\"dataframe\">\n",
       "  <thead>\n",
       "    <tr style=\"text-align: right;\">\n",
       "      <th></th>\n",
       "      <th>match_id</th>\n",
       "      <th>inning</th>\n",
       "      <th>batting_team</th>\n",
       "      <th>bowling_team</th>\n",
       "      <th>over</th>\n",
       "      <th>ball</th>\n",
       "      <th>batsman</th>\n",
       "      <th>non_striker</th>\n",
       "      <th>bowler</th>\n",
       "      <th>is_super_over</th>\n",
       "      <th>...</th>\n",
       "      <th>bye_runs</th>\n",
       "      <th>legbye_runs</th>\n",
       "      <th>noball_runs</th>\n",
       "      <th>penalty_runs</th>\n",
       "      <th>batsman_runs</th>\n",
       "      <th>extra_runs</th>\n",
       "      <th>total_runs</th>\n",
       "      <th>player_dismissed</th>\n",
       "      <th>dismissal_kind</th>\n",
       "      <th>fielder</th>\n",
       "    </tr>\n",
       "  </thead>\n",
       "  <tbody>\n",
       "    <tr>\n",
       "      <th>0</th>\n",
       "      <td>1</td>\n",
       "      <td>1</td>\n",
       "      <td>Sunrisers Hyderabad</td>\n",
       "      <td>Royal Challengers Bangalore</td>\n",
       "      <td>1</td>\n",
       "      <td>1</td>\n",
       "      <td>DA Warner</td>\n",
       "      <td>S Dhawan</td>\n",
       "      <td>TS Mills</td>\n",
       "      <td>0</td>\n",
       "      <td>...</td>\n",
       "      <td>0</td>\n",
       "      <td>0</td>\n",
       "      <td>0</td>\n",
       "      <td>0</td>\n",
       "      <td>0</td>\n",
       "      <td>0</td>\n",
       "      <td>0</td>\n",
       "      <td>NaN</td>\n",
       "      <td>NaN</td>\n",
       "      <td>NaN</td>\n",
       "    </tr>\n",
       "    <tr>\n",
       "      <th>1</th>\n",
       "      <td>1</td>\n",
       "      <td>1</td>\n",
       "      <td>Sunrisers Hyderabad</td>\n",
       "      <td>Royal Challengers Bangalore</td>\n",
       "      <td>1</td>\n",
       "      <td>2</td>\n",
       "      <td>DA Warner</td>\n",
       "      <td>S Dhawan</td>\n",
       "      <td>TS Mills</td>\n",
       "      <td>0</td>\n",
       "      <td>...</td>\n",
       "      <td>0</td>\n",
       "      <td>0</td>\n",
       "      <td>0</td>\n",
       "      <td>0</td>\n",
       "      <td>0</td>\n",
       "      <td>0</td>\n",
       "      <td>0</td>\n",
       "      <td>NaN</td>\n",
       "      <td>NaN</td>\n",
       "      <td>NaN</td>\n",
       "    </tr>\n",
       "    <tr>\n",
       "      <th>2</th>\n",
       "      <td>1</td>\n",
       "      <td>1</td>\n",
       "      <td>Sunrisers Hyderabad</td>\n",
       "      <td>Royal Challengers Bangalore</td>\n",
       "      <td>1</td>\n",
       "      <td>3</td>\n",
       "      <td>DA Warner</td>\n",
       "      <td>S Dhawan</td>\n",
       "      <td>TS Mills</td>\n",
       "      <td>0</td>\n",
       "      <td>...</td>\n",
       "      <td>0</td>\n",
       "      <td>0</td>\n",
       "      <td>0</td>\n",
       "      <td>0</td>\n",
       "      <td>4</td>\n",
       "      <td>0</td>\n",
       "      <td>4</td>\n",
       "      <td>NaN</td>\n",
       "      <td>NaN</td>\n",
       "      <td>NaN</td>\n",
       "    </tr>\n",
       "    <tr>\n",
       "      <th>3</th>\n",
       "      <td>1</td>\n",
       "      <td>1</td>\n",
       "      <td>Sunrisers Hyderabad</td>\n",
       "      <td>Royal Challengers Bangalore</td>\n",
       "      <td>1</td>\n",
       "      <td>4</td>\n",
       "      <td>DA Warner</td>\n",
       "      <td>S Dhawan</td>\n",
       "      <td>TS Mills</td>\n",
       "      <td>0</td>\n",
       "      <td>...</td>\n",
       "      <td>0</td>\n",
       "      <td>0</td>\n",
       "      <td>0</td>\n",
       "      <td>0</td>\n",
       "      <td>0</td>\n",
       "      <td>0</td>\n",
       "      <td>0</td>\n",
       "      <td>NaN</td>\n",
       "      <td>NaN</td>\n",
       "      <td>NaN</td>\n",
       "    </tr>\n",
       "    <tr>\n",
       "      <th>4</th>\n",
       "      <td>1</td>\n",
       "      <td>1</td>\n",
       "      <td>Sunrisers Hyderabad</td>\n",
       "      <td>Royal Challengers Bangalore</td>\n",
       "      <td>1</td>\n",
       "      <td>5</td>\n",
       "      <td>DA Warner</td>\n",
       "      <td>S Dhawan</td>\n",
       "      <td>TS Mills</td>\n",
       "      <td>0</td>\n",
       "      <td>...</td>\n",
       "      <td>0</td>\n",
       "      <td>0</td>\n",
       "      <td>0</td>\n",
       "      <td>0</td>\n",
       "      <td>0</td>\n",
       "      <td>2</td>\n",
       "      <td>2</td>\n",
       "      <td>NaN</td>\n",
       "      <td>NaN</td>\n",
       "      <td>NaN</td>\n",
       "    </tr>\n",
       "  </tbody>\n",
       "</table>\n",
       "<p>5 rows × 21 columns</p>\n",
       "</div>"
      ],
      "text/plain": [
       "   match_id  inning         batting_team                 bowling_team  over  \\\n",
       "0         1       1  Sunrisers Hyderabad  Royal Challengers Bangalore     1   \n",
       "1         1       1  Sunrisers Hyderabad  Royal Challengers Bangalore     1   \n",
       "2         1       1  Sunrisers Hyderabad  Royal Challengers Bangalore     1   \n",
       "3         1       1  Sunrisers Hyderabad  Royal Challengers Bangalore     1   \n",
       "4         1       1  Sunrisers Hyderabad  Royal Challengers Bangalore     1   \n",
       "\n",
       "   ball    batsman non_striker    bowler  is_super_over  ...  bye_runs  \\\n",
       "0     1  DA Warner    S Dhawan  TS Mills              0  ...         0   \n",
       "1     2  DA Warner    S Dhawan  TS Mills              0  ...         0   \n",
       "2     3  DA Warner    S Dhawan  TS Mills              0  ...         0   \n",
       "3     4  DA Warner    S Dhawan  TS Mills              0  ...         0   \n",
       "4     5  DA Warner    S Dhawan  TS Mills              0  ...         0   \n",
       "\n",
       "   legbye_runs  noball_runs  penalty_runs  batsman_runs  extra_runs  \\\n",
       "0            0            0             0             0           0   \n",
       "1            0            0             0             0           0   \n",
       "2            0            0             0             4           0   \n",
       "3            0            0             0             0           0   \n",
       "4            0            0             0             0           2   \n",
       "\n",
       "   total_runs  player_dismissed dismissal_kind fielder  \n",
       "0           0               NaN            NaN     NaN  \n",
       "1           0               NaN            NaN     NaN  \n",
       "2           4               NaN            NaN     NaN  \n",
       "3           0               NaN            NaN     NaN  \n",
       "4           2               NaN            NaN     NaN  \n",
       "\n",
       "[5 rows x 21 columns]"
      ]
     },
     "execution_count": 6,
     "metadata": {},
     "output_type": "execute_result"
    }
   ],
   "source": [
    "df2.head()"
   ]
  },
  {
   "cell_type": "code",
   "execution_count": 7,
   "id": "c5c060c7",
   "metadata": {},
   "outputs": [
    {
     "name": "stdout",
     "output_type": "stream",
     "text": [
      "(636, 18)\n",
      "(150460, 21)\n"
     ]
    }
   ],
   "source": [
    "print(df1.shape)\n",
    "print(df2.shape)"
   ]
  },
  {
   "cell_type": "code",
   "execution_count": 8,
   "id": "d3d87dee",
   "metadata": {},
   "outputs": [],
   "source": [
    "# starting to work with df1 - matches.csv\n",
    "\n",
    "# dropping off the id col\n",
    "df1.drop('id',axis=1,inplace=True)"
   ]
  },
  {
   "cell_type": "code",
   "execution_count": 9,
   "id": "6a163138",
   "metadata": {
    "scrolled": true
   },
   "outputs": [
    {
     "data": {
      "text/plain": [
       "season               0\n",
       "city                 7\n",
       "date                 0\n",
       "team1                0\n",
       "team2                0\n",
       "toss_winner          0\n",
       "toss_decision        0\n",
       "result               0\n",
       "dl_applied           0\n",
       "winner               3\n",
       "win_by_runs          0\n",
       "win_by_wickets       0\n",
       "player_of_match      3\n",
       "venue                0\n",
       "umpire1              1\n",
       "umpire2              1\n",
       "umpire3            636\n",
       "dtype: int64"
      ]
     },
     "execution_count": 9,
     "metadata": {},
     "output_type": "execute_result"
    }
   ],
   "source": [
    "df1.isna().sum()"
   ]
  },
  {
   "cell_type": "markdown",
   "id": "91101a97",
   "metadata": {},
   "source": [
    "## Data Cleaning"
   ]
  },
  {
   "cell_type": "code",
   "execution_count": 10,
   "id": "ceb27fa8",
   "metadata": {
    "scrolled": false
   },
   "outputs": [
    {
     "data": {
      "text/html": [
       "<div>\n",
       "<style scoped>\n",
       "    .dataframe tbody tr th:only-of-type {\n",
       "        vertical-align: middle;\n",
       "    }\n",
       "\n",
       "    .dataframe tbody tr th {\n",
       "        vertical-align: top;\n",
       "    }\n",
       "\n",
       "    .dataframe thead th {\n",
       "        text-align: right;\n",
       "    }\n",
       "</style>\n",
       "<table border=\"1\" class=\"dataframe\">\n",
       "  <thead>\n",
       "    <tr style=\"text-align: right;\">\n",
       "      <th></th>\n",
       "      <th>season</th>\n",
       "      <th>city</th>\n",
       "      <th>date</th>\n",
       "      <th>team1</th>\n",
       "      <th>team2</th>\n",
       "      <th>toss_winner</th>\n",
       "      <th>toss_decision</th>\n",
       "      <th>result</th>\n",
       "      <th>dl_applied</th>\n",
       "      <th>winner</th>\n",
       "      <th>win_by_runs</th>\n",
       "      <th>win_by_wickets</th>\n",
       "      <th>player_of_match</th>\n",
       "      <th>venue</th>\n",
       "      <th>umpire1</th>\n",
       "      <th>umpire2</th>\n",
       "      <th>umpire3</th>\n",
       "    </tr>\n",
       "  </thead>\n",
       "  <tbody>\n",
       "    <tr>\n",
       "      <th>461</th>\n",
       "      <td>2014</td>\n",
       "      <td>NaN</td>\n",
       "      <td>2014-04-19</td>\n",
       "      <td>Mumbai Indians</td>\n",
       "      <td>Royal Challengers Bangalore</td>\n",
       "      <td>Royal Challengers Bangalore</td>\n",
       "      <td>field</td>\n",
       "      <td>normal</td>\n",
       "      <td>0</td>\n",
       "      <td>Royal Challengers Bangalore</td>\n",
       "      <td>0</td>\n",
       "      <td>7</td>\n",
       "      <td>PA Patel</td>\n",
       "      <td>Dubai International Cricket Stadium</td>\n",
       "      <td>Aleem Dar</td>\n",
       "      <td>AK Chaudhary</td>\n",
       "      <td>NaN</td>\n",
       "    </tr>\n",
       "    <tr>\n",
       "      <th>462</th>\n",
       "      <td>2014</td>\n",
       "      <td>NaN</td>\n",
       "      <td>2014-04-19</td>\n",
       "      <td>Kolkata Knight Riders</td>\n",
       "      <td>Delhi Daredevils</td>\n",
       "      <td>Kolkata Knight Riders</td>\n",
       "      <td>bat</td>\n",
       "      <td>normal</td>\n",
       "      <td>0</td>\n",
       "      <td>Delhi Daredevils</td>\n",
       "      <td>0</td>\n",
       "      <td>4</td>\n",
       "      <td>JP Duminy</td>\n",
       "      <td>Dubai International Cricket Stadium</td>\n",
       "      <td>Aleem Dar</td>\n",
       "      <td>VA Kulkarni</td>\n",
       "      <td>NaN</td>\n",
       "    </tr>\n",
       "    <tr>\n",
       "      <th>466</th>\n",
       "      <td>2014</td>\n",
       "      <td>NaN</td>\n",
       "      <td>2014-04-23</td>\n",
       "      <td>Chennai Super Kings</td>\n",
       "      <td>Rajasthan Royals</td>\n",
       "      <td>Rajasthan Royals</td>\n",
       "      <td>field</td>\n",
       "      <td>normal</td>\n",
       "      <td>0</td>\n",
       "      <td>Chennai Super Kings</td>\n",
       "      <td>7</td>\n",
       "      <td>0</td>\n",
       "      <td>RA Jadeja</td>\n",
       "      <td>Dubai International Cricket Stadium</td>\n",
       "      <td>HDPK Dharmasena</td>\n",
       "      <td>RK Illingworth</td>\n",
       "      <td>NaN</td>\n",
       "    </tr>\n",
       "    <tr>\n",
       "      <th>468</th>\n",
       "      <td>2014</td>\n",
       "      <td>NaN</td>\n",
       "      <td>2014-04-25</td>\n",
       "      <td>Sunrisers Hyderabad</td>\n",
       "      <td>Delhi Daredevils</td>\n",
       "      <td>Sunrisers Hyderabad</td>\n",
       "      <td>bat</td>\n",
       "      <td>normal</td>\n",
       "      <td>0</td>\n",
       "      <td>Sunrisers Hyderabad</td>\n",
       "      <td>4</td>\n",
       "      <td>0</td>\n",
       "      <td>AJ Finch</td>\n",
       "      <td>Dubai International Cricket Stadium</td>\n",
       "      <td>M Erasmus</td>\n",
       "      <td>S Ravi</td>\n",
       "      <td>NaN</td>\n",
       "    </tr>\n",
       "    <tr>\n",
       "      <th>469</th>\n",
       "      <td>2014</td>\n",
       "      <td>NaN</td>\n",
       "      <td>2014-04-25</td>\n",
       "      <td>Mumbai Indians</td>\n",
       "      <td>Chennai Super Kings</td>\n",
       "      <td>Mumbai Indians</td>\n",
       "      <td>bat</td>\n",
       "      <td>normal</td>\n",
       "      <td>0</td>\n",
       "      <td>Chennai Super Kings</td>\n",
       "      <td>0</td>\n",
       "      <td>7</td>\n",
       "      <td>MM Sharma</td>\n",
       "      <td>Dubai International Cricket Stadium</td>\n",
       "      <td>BF Bowden</td>\n",
       "      <td>M Erasmus</td>\n",
       "      <td>NaN</td>\n",
       "    </tr>\n",
       "    <tr>\n",
       "      <th>474</th>\n",
       "      <td>2014</td>\n",
       "      <td>NaN</td>\n",
       "      <td>2014-04-28</td>\n",
       "      <td>Royal Challengers Bangalore</td>\n",
       "      <td>Kings XI Punjab</td>\n",
       "      <td>Kings XI Punjab</td>\n",
       "      <td>field</td>\n",
       "      <td>normal</td>\n",
       "      <td>0</td>\n",
       "      <td>Kings XI Punjab</td>\n",
       "      <td>0</td>\n",
       "      <td>5</td>\n",
       "      <td>Sandeep Sharma</td>\n",
       "      <td>Dubai International Cricket Stadium</td>\n",
       "      <td>BF Bowden</td>\n",
       "      <td>S Ravi</td>\n",
       "      <td>NaN</td>\n",
       "    </tr>\n",
       "    <tr>\n",
       "      <th>476</th>\n",
       "      <td>2014</td>\n",
       "      <td>NaN</td>\n",
       "      <td>2014-04-30</td>\n",
       "      <td>Sunrisers Hyderabad</td>\n",
       "      <td>Mumbai Indians</td>\n",
       "      <td>Mumbai Indians</td>\n",
       "      <td>field</td>\n",
       "      <td>normal</td>\n",
       "      <td>0</td>\n",
       "      <td>Sunrisers Hyderabad</td>\n",
       "      <td>15</td>\n",
       "      <td>0</td>\n",
       "      <td>B Kumar</td>\n",
       "      <td>Dubai International Cricket Stadium</td>\n",
       "      <td>HDPK Dharmasena</td>\n",
       "      <td>M Erasmus</td>\n",
       "      <td>NaN</td>\n",
       "    </tr>\n",
       "  </tbody>\n",
       "</table>\n",
       "</div>"
      ],
      "text/plain": [
       "     season city        date                        team1  \\\n",
       "461    2014  NaN  2014-04-19               Mumbai Indians   \n",
       "462    2014  NaN  2014-04-19        Kolkata Knight Riders   \n",
       "466    2014  NaN  2014-04-23          Chennai Super Kings   \n",
       "468    2014  NaN  2014-04-25          Sunrisers Hyderabad   \n",
       "469    2014  NaN  2014-04-25               Mumbai Indians   \n",
       "474    2014  NaN  2014-04-28  Royal Challengers Bangalore   \n",
       "476    2014  NaN  2014-04-30          Sunrisers Hyderabad   \n",
       "\n",
       "                           team2                  toss_winner toss_decision  \\\n",
       "461  Royal Challengers Bangalore  Royal Challengers Bangalore         field   \n",
       "462             Delhi Daredevils        Kolkata Knight Riders           bat   \n",
       "466             Rajasthan Royals             Rajasthan Royals         field   \n",
       "468             Delhi Daredevils          Sunrisers Hyderabad           bat   \n",
       "469          Chennai Super Kings               Mumbai Indians           bat   \n",
       "474              Kings XI Punjab              Kings XI Punjab         field   \n",
       "476               Mumbai Indians               Mumbai Indians         field   \n",
       "\n",
       "     result  dl_applied                       winner  win_by_runs  \\\n",
       "461  normal           0  Royal Challengers Bangalore            0   \n",
       "462  normal           0             Delhi Daredevils            0   \n",
       "466  normal           0          Chennai Super Kings            7   \n",
       "468  normal           0          Sunrisers Hyderabad            4   \n",
       "469  normal           0          Chennai Super Kings            0   \n",
       "474  normal           0              Kings XI Punjab            0   \n",
       "476  normal           0          Sunrisers Hyderabad           15   \n",
       "\n",
       "     win_by_wickets player_of_match                                venue  \\\n",
       "461               7        PA Patel  Dubai International Cricket Stadium   \n",
       "462               4       JP Duminy  Dubai International Cricket Stadium   \n",
       "466               0       RA Jadeja  Dubai International Cricket Stadium   \n",
       "468               0        AJ Finch  Dubai International Cricket Stadium   \n",
       "469               7       MM Sharma  Dubai International Cricket Stadium   \n",
       "474               5  Sandeep Sharma  Dubai International Cricket Stadium   \n",
       "476               0         B Kumar  Dubai International Cricket Stadium   \n",
       "\n",
       "             umpire1         umpire2  umpire3  \n",
       "461        Aleem Dar    AK Chaudhary      NaN  \n",
       "462        Aleem Dar     VA Kulkarni      NaN  \n",
       "466  HDPK Dharmasena  RK Illingworth      NaN  \n",
       "468        M Erasmus          S Ravi      NaN  \n",
       "469        BF Bowden       M Erasmus      NaN  \n",
       "474        BF Bowden          S Ravi      NaN  \n",
       "476  HDPK Dharmasena       M Erasmus      NaN  "
      ]
     },
     "execution_count": 10,
     "metadata": {},
     "output_type": "execute_result"
    }
   ],
   "source": [
    "# fixing null vals before moving forward\n",
    "\n",
    "# for city\n",
    "\n",
    "df1.loc[df1.city.isnull()]"
   ]
  },
  {
   "cell_type": "markdown",
   "id": "5698fd04",
   "metadata": {},
   "source": [
    "All missing cities are from season 2014, ranging from 2014-4-19 to 2014-4-30.\n",
    "Interestingly, all these matches were held in Dubai international stadium, therefore the missing city is Dubai"
   ]
  },
  {
   "cell_type": "code",
   "execution_count": 11,
   "id": "1c67aed0",
   "metadata": {},
   "outputs": [],
   "source": [
    "df1['city'][df1.city.isna()] = 'Dubai'"
   ]
  },
  {
   "cell_type": "code",
   "execution_count": 12,
   "id": "dd581d8a",
   "metadata": {},
   "outputs": [
    {
     "data": {
      "text/plain": [
       "0"
      ]
     },
     "execution_count": 12,
     "metadata": {},
     "output_type": "execute_result"
    }
   ],
   "source": [
    "# check if there are any missing cities now\n",
    "df1.city.isna().sum()"
   ]
  },
  {
   "cell_type": "code",
   "execution_count": 13,
   "id": "0d042211",
   "metadata": {},
   "outputs": [
    {
     "data": {
      "text/html": [
       "<div>\n",
       "<style scoped>\n",
       "    .dataframe tbody tr th:only-of-type {\n",
       "        vertical-align: middle;\n",
       "    }\n",
       "\n",
       "    .dataframe tbody tr th {\n",
       "        vertical-align: top;\n",
       "    }\n",
       "\n",
       "    .dataframe thead th {\n",
       "        text-align: right;\n",
       "    }\n",
       "</style>\n",
       "<table border=\"1\" class=\"dataframe\">\n",
       "  <thead>\n",
       "    <tr style=\"text-align: right;\">\n",
       "      <th></th>\n",
       "      <th>season</th>\n",
       "      <th>city</th>\n",
       "      <th>date</th>\n",
       "      <th>team1</th>\n",
       "      <th>team2</th>\n",
       "      <th>toss_winner</th>\n",
       "      <th>toss_decision</th>\n",
       "      <th>result</th>\n",
       "      <th>dl_applied</th>\n",
       "      <th>winner</th>\n",
       "      <th>win_by_runs</th>\n",
       "      <th>win_by_wickets</th>\n",
       "      <th>player_of_match</th>\n",
       "      <th>venue</th>\n",
       "      <th>umpire1</th>\n",
       "      <th>umpire2</th>\n",
       "      <th>umpire3</th>\n",
       "    </tr>\n",
       "  </thead>\n",
       "  <tbody>\n",
       "    <tr>\n",
       "      <th>300</th>\n",
       "      <td>2011</td>\n",
       "      <td>Delhi</td>\n",
       "      <td>2011-05-21</td>\n",
       "      <td>Delhi Daredevils</td>\n",
       "      <td>Pune Warriors</td>\n",
       "      <td>Delhi Daredevils</td>\n",
       "      <td>bat</td>\n",
       "      <td>no result</td>\n",
       "      <td>0</td>\n",
       "      <td>NaN</td>\n",
       "      <td>0</td>\n",
       "      <td>0</td>\n",
       "      <td>NaN</td>\n",
       "      <td>Feroz Shah Kotla</td>\n",
       "      <td>SS Hazare</td>\n",
       "      <td>RJ Tucker</td>\n",
       "      <td>NaN</td>\n",
       "    </tr>\n",
       "    <tr>\n",
       "      <th>545</th>\n",
       "      <td>2015</td>\n",
       "      <td>Bangalore</td>\n",
       "      <td>2015-04-29</td>\n",
       "      <td>Royal Challengers Bangalore</td>\n",
       "      <td>Rajasthan Royals</td>\n",
       "      <td>Rajasthan Royals</td>\n",
       "      <td>field</td>\n",
       "      <td>no result</td>\n",
       "      <td>0</td>\n",
       "      <td>NaN</td>\n",
       "      <td>0</td>\n",
       "      <td>0</td>\n",
       "      <td>NaN</td>\n",
       "      <td>M Chinnaswamy Stadium</td>\n",
       "      <td>JD Cloete</td>\n",
       "      <td>PG Pathak</td>\n",
       "      <td>NaN</td>\n",
       "    </tr>\n",
       "    <tr>\n",
       "      <th>570</th>\n",
       "      <td>2015</td>\n",
       "      <td>Bangalore</td>\n",
       "      <td>2015-05-17</td>\n",
       "      <td>Delhi Daredevils</td>\n",
       "      <td>Royal Challengers Bangalore</td>\n",
       "      <td>Royal Challengers Bangalore</td>\n",
       "      <td>field</td>\n",
       "      <td>no result</td>\n",
       "      <td>0</td>\n",
       "      <td>NaN</td>\n",
       "      <td>0</td>\n",
       "      <td>0</td>\n",
       "      <td>NaN</td>\n",
       "      <td>M Chinnaswamy Stadium</td>\n",
       "      <td>HDPK Dharmasena</td>\n",
       "      <td>K Srinivasan</td>\n",
       "      <td>NaN</td>\n",
       "    </tr>\n",
       "  </tbody>\n",
       "</table>\n",
       "</div>"
      ],
      "text/plain": [
       "     season       city        date                        team1  \\\n",
       "300    2011      Delhi  2011-05-21             Delhi Daredevils   \n",
       "545    2015  Bangalore  2015-04-29  Royal Challengers Bangalore   \n",
       "570    2015  Bangalore  2015-05-17             Delhi Daredevils   \n",
       "\n",
       "                           team2                  toss_winner toss_decision  \\\n",
       "300                Pune Warriors             Delhi Daredevils           bat   \n",
       "545             Rajasthan Royals             Rajasthan Royals         field   \n",
       "570  Royal Challengers Bangalore  Royal Challengers Bangalore         field   \n",
       "\n",
       "        result  dl_applied winner  win_by_runs  win_by_wickets  \\\n",
       "300  no result           0    NaN            0               0   \n",
       "545  no result           0    NaN            0               0   \n",
       "570  no result           0    NaN            0               0   \n",
       "\n",
       "    player_of_match                  venue          umpire1       umpire2  \\\n",
       "300             NaN       Feroz Shah Kotla        SS Hazare     RJ Tucker   \n",
       "545             NaN  M Chinnaswamy Stadium        JD Cloete     PG Pathak   \n",
       "570             NaN  M Chinnaswamy Stadium  HDPK Dharmasena  K Srinivasan   \n",
       "\n",
       "     umpire3  \n",
       "300      NaN  \n",
       "545      NaN  \n",
       "570      NaN  "
      ]
     },
     "execution_count": 13,
     "metadata": {},
     "output_type": "execute_result"
    }
   ],
   "source": [
    "# for winner and player of the match\n",
    "\n",
    "# if we notice - both of them are in same rows as there was no match result\n",
    "df1.loc[df1.winner.isna()]"
   ]
  },
  {
   "cell_type": "code",
   "execution_count": 14,
   "id": "55b54e33",
   "metadata": {},
   "outputs": [],
   "source": [
    "# we can drop these rows as they dont help us with our objective function\n",
    "df1 = df1[df1.winner.notna()]"
   ]
  },
  {
   "cell_type": "code",
   "execution_count": 15,
   "id": "0b2f4709",
   "metadata": {},
   "outputs": [
    {
     "data": {
      "text/plain": [
       "0"
      ]
     },
     "execution_count": 15,
     "metadata": {},
     "output_type": "execute_result"
    }
   ],
   "source": [
    "# verify\n",
    "df1.winner.isna().sum()"
   ]
  },
  {
   "cell_type": "code",
   "execution_count": 16,
   "id": "66121db6",
   "metadata": {},
   "outputs": [],
   "source": [
    "# missing umpire values"
   ]
  },
  {
   "cell_type": "markdown",
   "id": "12a025fd",
   "metadata": {},
   "source": [
    "Its not possible that there was no umpire in the match,so we will fill out the missing umpire based on the most frequent umpire in season 2017 - but the confluence of a team winning based on an umpire is almost None, so we drop the umpire column"
   ]
  },
  {
   "cell_type": "code",
   "execution_count": 17,
   "id": "f3fb08e4",
   "metadata": {},
   "outputs": [],
   "source": [
    "df1.drop(['umpire1','umpire2','umpire3'],axis=1,inplace=True)"
   ]
  },
  {
   "cell_type": "code",
   "execution_count": 18,
   "id": "59b0ac35",
   "metadata": {},
   "outputs": [
    {
     "data": {
      "text/plain": [
       "season             0\n",
       "city               0\n",
       "date               0\n",
       "team1              0\n",
       "team2              0\n",
       "toss_winner        0\n",
       "toss_decision      0\n",
       "result             0\n",
       "dl_applied         0\n",
       "winner             0\n",
       "win_by_runs        0\n",
       "win_by_wickets     0\n",
       "player_of_match    0\n",
       "venue              0\n",
       "dtype: int64"
      ]
     },
     "execution_count": 18,
     "metadata": {},
     "output_type": "execute_result"
    }
   ],
   "source": [
    "# final check of missing values\n",
    "df1.isna().sum()"
   ]
  },
  {
   "cell_type": "code",
   "execution_count": 19,
   "id": "99f01a22",
   "metadata": {},
   "outputs": [],
   "source": [
    "# there are still some features which doesnt contribute for a team to win a match like win by runs etc\n",
    "df1.drop('win_by_wickets',axis=1, inplace=True)"
   ]
  },
  {
   "cell_type": "markdown",
   "id": "65c5db71",
   "metadata": {},
   "source": [
    "Good to go to perform the analysis"
   ]
  },
  {
   "cell_type": "markdown",
   "id": "de63ba56",
   "metadata": {},
   "source": [
    "## Analysis"
   ]
  },
  {
   "cell_type": "markdown",
   "id": "a9120a59",
   "metadata": {},
   "source": [
    "My favorite team here is Mumbai Indians - we can pick our favorite team and do similar analysis on them \n",
    "( for simplicity I am only analysing one team)"
   ]
  },
  {
   "cell_type": "code",
   "execution_count": 20,
   "id": "41989e20",
   "metadata": {
    "scrolled": true
   },
   "outputs": [
    {
     "data": {
      "text/html": [
       "<div>\n",
       "<style scoped>\n",
       "    .dataframe tbody tr th:only-of-type {\n",
       "        vertical-align: middle;\n",
       "    }\n",
       "\n",
       "    .dataframe tbody tr th {\n",
       "        vertical-align: top;\n",
       "    }\n",
       "\n",
       "    .dataframe thead th {\n",
       "        text-align: right;\n",
       "    }\n",
       "</style>\n",
       "<table border=\"1\" class=\"dataframe\">\n",
       "  <thead>\n",
       "    <tr style=\"text-align: right;\">\n",
       "      <th></th>\n",
       "      <th>season</th>\n",
       "      <th>city</th>\n",
       "      <th>date</th>\n",
       "      <th>team1</th>\n",
       "      <th>team2</th>\n",
       "      <th>toss_winner</th>\n",
       "      <th>toss_decision</th>\n",
       "      <th>result</th>\n",
       "      <th>dl_applied</th>\n",
       "      <th>winner</th>\n",
       "      <th>win_by_runs</th>\n",
       "      <th>player_of_match</th>\n",
       "      <th>venue</th>\n",
       "    </tr>\n",
       "  </thead>\n",
       "  <tbody>\n",
       "    <tr>\n",
       "      <th>0</th>\n",
       "      <td>2017</td>\n",
       "      <td>Hyderabad</td>\n",
       "      <td>2017-04-05</td>\n",
       "      <td>Sunrisers Hyderabad</td>\n",
       "      <td>Royal Challengers Bangalore</td>\n",
       "      <td>Royal Challengers Bangalore</td>\n",
       "      <td>field</td>\n",
       "      <td>normal</td>\n",
       "      <td>0</td>\n",
       "      <td>Sunrisers Hyderabad</td>\n",
       "      <td>35</td>\n",
       "      <td>Yuvraj Singh</td>\n",
       "      <td>Rajiv Gandhi International Stadium, Uppal</td>\n",
       "    </tr>\n",
       "    <tr>\n",
       "      <th>1</th>\n",
       "      <td>2017</td>\n",
       "      <td>Pune</td>\n",
       "      <td>2017-04-06</td>\n",
       "      <td>Mumbai Indians</td>\n",
       "      <td>Rising Pune Supergiant</td>\n",
       "      <td>Rising Pune Supergiant</td>\n",
       "      <td>field</td>\n",
       "      <td>normal</td>\n",
       "      <td>0</td>\n",
       "      <td>Rising Pune Supergiant</td>\n",
       "      <td>0</td>\n",
       "      <td>SPD Smith</td>\n",
       "      <td>Maharashtra Cricket Association Stadium</td>\n",
       "    </tr>\n",
       "    <tr>\n",
       "      <th>2</th>\n",
       "      <td>2017</td>\n",
       "      <td>Rajkot</td>\n",
       "      <td>2017-04-07</td>\n",
       "      <td>Gujarat Lions</td>\n",
       "      <td>Kolkata Knight Riders</td>\n",
       "      <td>Kolkata Knight Riders</td>\n",
       "      <td>field</td>\n",
       "      <td>normal</td>\n",
       "      <td>0</td>\n",
       "      <td>Kolkata Knight Riders</td>\n",
       "      <td>0</td>\n",
       "      <td>CA Lynn</td>\n",
       "      <td>Saurashtra Cricket Association Stadium</td>\n",
       "    </tr>\n",
       "    <tr>\n",
       "      <th>3</th>\n",
       "      <td>2017</td>\n",
       "      <td>Indore</td>\n",
       "      <td>2017-04-08</td>\n",
       "      <td>Rising Pune Supergiant</td>\n",
       "      <td>Kings XI Punjab</td>\n",
       "      <td>Kings XI Punjab</td>\n",
       "      <td>field</td>\n",
       "      <td>normal</td>\n",
       "      <td>0</td>\n",
       "      <td>Kings XI Punjab</td>\n",
       "      <td>0</td>\n",
       "      <td>GJ Maxwell</td>\n",
       "      <td>Holkar Cricket Stadium</td>\n",
       "    </tr>\n",
       "    <tr>\n",
       "      <th>4</th>\n",
       "      <td>2017</td>\n",
       "      <td>Bangalore</td>\n",
       "      <td>2017-04-08</td>\n",
       "      <td>Royal Challengers Bangalore</td>\n",
       "      <td>Delhi Daredevils</td>\n",
       "      <td>Royal Challengers Bangalore</td>\n",
       "      <td>bat</td>\n",
       "      <td>normal</td>\n",
       "      <td>0</td>\n",
       "      <td>Royal Challengers Bangalore</td>\n",
       "      <td>15</td>\n",
       "      <td>KM Jadhav</td>\n",
       "      <td>M Chinnaswamy Stadium</td>\n",
       "    </tr>\n",
       "  </tbody>\n",
       "</table>\n",
       "</div>"
      ],
      "text/plain": [
       "   season       city        date                        team1  \\\n",
       "0    2017  Hyderabad  2017-04-05          Sunrisers Hyderabad   \n",
       "1    2017       Pune  2017-04-06               Mumbai Indians   \n",
       "2    2017     Rajkot  2017-04-07                Gujarat Lions   \n",
       "3    2017     Indore  2017-04-08       Rising Pune Supergiant   \n",
       "4    2017  Bangalore  2017-04-08  Royal Challengers Bangalore   \n",
       "\n",
       "                         team2                  toss_winner toss_decision  \\\n",
       "0  Royal Challengers Bangalore  Royal Challengers Bangalore         field   \n",
       "1       Rising Pune Supergiant       Rising Pune Supergiant         field   \n",
       "2        Kolkata Knight Riders        Kolkata Knight Riders         field   \n",
       "3              Kings XI Punjab              Kings XI Punjab         field   \n",
       "4             Delhi Daredevils  Royal Challengers Bangalore           bat   \n",
       "\n",
       "   result  dl_applied                       winner  win_by_runs  \\\n",
       "0  normal           0          Sunrisers Hyderabad           35   \n",
       "1  normal           0       Rising Pune Supergiant            0   \n",
       "2  normal           0        Kolkata Knight Riders            0   \n",
       "3  normal           0              Kings XI Punjab            0   \n",
       "4  normal           0  Royal Challengers Bangalore           15   \n",
       "\n",
       "  player_of_match                                      venue  \n",
       "0    Yuvraj Singh  Rajiv Gandhi International Stadium, Uppal  \n",
       "1       SPD Smith    Maharashtra Cricket Association Stadium  \n",
       "2         CA Lynn     Saurashtra Cricket Association Stadium  \n",
       "3      GJ Maxwell                     Holkar Cricket Stadium  \n",
       "4       KM Jadhav                      M Chinnaswamy Stadium  "
      ]
     },
     "execution_count": 20,
     "metadata": {},
     "output_type": "execute_result"
    }
   ],
   "source": [
    "df1.head()"
   ]
  },
  {
   "cell_type": "code",
   "execution_count": 21,
   "id": "093e4d88",
   "metadata": {},
   "outputs": [],
   "source": [
    "# sorting pandas column by date\n",
    "df1 = df1.sort_values(by=['date'])"
   ]
  },
  {
   "cell_type": "code",
   "execution_count": 22,
   "id": "da29d29e",
   "metadata": {
    "scrolled": false
   },
   "outputs": [
    {
     "data": {
      "text/plain": [
       "array(['Kolkata Knight Riders', 'Rajasthan Royals', 'Chennai Super Kings',\n",
       "       'Deccan Chargers', 'Mumbai Indians', 'Kings XI Punjab',\n",
       "       'Royal Challengers Bangalore', 'Delhi Daredevils',\n",
       "       'Kochi Tuskers Kerala', 'Pune Warriors', 'Sunrisers Hyderabad',\n",
       "       'Rising Pune Supergiants', 'Gujarat Lions',\n",
       "       'Rising Pune Supergiant'], dtype=object)"
      ]
     },
     "execution_count": 22,
     "metadata": {},
     "output_type": "execute_result"
    }
   ],
   "source": [
    "df1.team1.unique()"
   ]
  },
  {
   "cell_type": "code",
   "execution_count": 23,
   "id": "b42c6980",
   "metadata": {},
   "outputs": [],
   "source": [
    "df1.loc[ df1['team1'] == 'Rising Pune Supergiant' , 'team1'] = 'Rising Pune Supergiants'"
   ]
  },
  {
   "cell_type": "code",
   "execution_count": 24,
   "id": "74b14b8e",
   "metadata": {},
   "outputs": [
    {
     "data": {
      "text/plain": [
       "array(['Kolkata Knight Riders', 'Rajasthan Royals', 'Chennai Super Kings',\n",
       "       'Deccan Chargers', 'Mumbai Indians', 'Kings XI Punjab',\n",
       "       'Royal Challengers Bangalore', 'Delhi Daredevils',\n",
       "       'Kochi Tuskers Kerala', 'Pune Warriors', 'Sunrisers Hyderabad',\n",
       "       'Rising Pune Supergiants', 'Gujarat Lions'], dtype=object)"
      ]
     },
     "execution_count": 24,
     "metadata": {},
     "output_type": "execute_result"
    }
   ],
   "source": [
    "df1.team1.unique()"
   ]
  },
  {
   "cell_type": "code",
   "execution_count": 25,
   "id": "c766be9d",
   "metadata": {},
   "outputs": [],
   "source": [
    "# mapping every team name with their abbreviations\n",
    "df1.replace(['Kolkata Knight Riders', 'Rajasthan Royals', 'Chennai Super Kings',\n",
    "       'Deccan Chargers', 'Mumbai Indians', 'Kings XI Punjab',\n",
    "       'Royal Challengers Bangalore', 'Delhi Daredevils',\n",
    "       'Kochi Tuskers Kerala', 'Pune Warriors', 'Sunrisers Hyderabad',\n",
    "       'Rising Pune Supergiants', 'Gujarat Lions','Rising Pune Supergiant',],value=['KKR' , 'RR', 'CSK','DC','MI','KX1P','RCB','DD','KTK','PW','SRH','RPS','GL','RPS'],inplace=True)"
   ]
  },
  {
   "cell_type": "code",
   "execution_count": 26,
   "id": "d9e78d47",
   "metadata": {},
   "outputs": [
    {
     "name": "stdout",
     "output_type": "stream",
     "text": [
      "Total matches played:  633\n",
      "\n",
      "Total venues:  ['Bangalore' 'Delhi' 'Chandigarh' 'Kolkata' 'Mumbai' 'Jaipur' 'Hyderabad'\n",
      " 'Chennai' 'Cape Town' 'Port Elizabeth' 'Durban' 'Centurion' 'East London'\n",
      " 'Johannesburg' 'Kimberley' 'Bloemfontein' 'Ahmedabad' 'Cuttack' 'Nagpur'\n",
      " 'Dharamsala' 'Kochi' 'Indore' 'Visakhapatnam' 'Pune' 'Raipur' 'Ranchi'\n",
      " 'Abu Dhabi' 'Sharjah' 'Dubai' 'Rajkot' 'Kanpur']\n",
      "\n",
      " Total teams:  ['KKR' 'RR' 'CSK' 'DC' 'MI' 'KX1P' 'RCB' 'DD' 'KTK' 'PW' 'SRH' 'RPS' 'GL']\n"
     ]
    }
   ],
   "source": [
    "# total matches played \n",
    "print(\"Total matches played: \",df1.shape[0])\n",
    "print(\"\\nTotal venues: \",df1.city.unique())\n",
    "print(\"\\n Total teams: \",df1.team1.unique())"
   ]
  },
  {
   "cell_type": "code",
   "execution_count": 27,
   "id": "75269707",
   "metadata": {},
   "outputs": [
    {
     "name": "stdout",
     "output_type": "stream",
     "text": [
      "Most man of the match awards: CH Gayle\n",
      "Number of the match awards: 18\n"
     ]
    }
   ],
   "source": [
    "print(\"Most man of the match awards:\" , (df1['player_of_match'].value_counts()).idxmax())\n",
    "print(\"Number of the match awards:\" , (df1['player_of_match'].value_counts()).max())"
   ]
  },
  {
   "cell_type": "code",
   "execution_count": 28,
   "id": "81564e7e",
   "metadata": {},
   "outputs": [
    {
     "data": {
      "text/plain": [
       "normal    626\n",
       "tie         7\n",
       "Name: result, dtype: int64"
      ]
     },
     "execution_count": 28,
     "metadata": {},
     "output_type": "execute_result"
    }
   ],
   "source": [
    "# our result col has some ambigous values, normal means loss or win ?\n",
    "df1.result.value_counts()"
   ]
  },
  {
   "cell_type": "code",
   "execution_count": 29,
   "id": "660720a7",
   "metadata": {},
   "outputs": [],
   "source": [
    "# now extracting the section of our data where our favourite team - Mumbai Indians in present\n",
    "MI_df = df1.loc[ (df1['team1']=='MI') | (df1['team2']=='MI')]"
   ]
  },
  {
   "cell_type": "code",
   "execution_count": 30,
   "id": "90df908b",
   "metadata": {},
   "outputs": [
    {
     "data": {
      "text/html": [
       "<div>\n",
       "<style scoped>\n",
       "    .dataframe tbody tr th:only-of-type {\n",
       "        vertical-align: middle;\n",
       "    }\n",
       "\n",
       "    .dataframe tbody tr th {\n",
       "        vertical-align: top;\n",
       "    }\n",
       "\n",
       "    .dataframe thead th {\n",
       "        text-align: right;\n",
       "    }\n",
       "</style>\n",
       "<table border=\"1\" class=\"dataframe\">\n",
       "  <thead>\n",
       "    <tr style=\"text-align: right;\">\n",
       "      <th></th>\n",
       "      <th>season</th>\n",
       "      <th>city</th>\n",
       "      <th>date</th>\n",
       "      <th>team1</th>\n",
       "      <th>team2</th>\n",
       "      <th>toss_winner</th>\n",
       "      <th>toss_decision</th>\n",
       "      <th>result</th>\n",
       "      <th>dl_applied</th>\n",
       "      <th>winner</th>\n",
       "      <th>win_by_runs</th>\n",
       "      <th>player_of_match</th>\n",
       "      <th>venue</th>\n",
       "    </tr>\n",
       "  </thead>\n",
       "  <tbody>\n",
       "    <tr>\n",
       "      <th>62</th>\n",
       "      <td>2008</td>\n",
       "      <td>Mumbai</td>\n",
       "      <td>2008-04-20</td>\n",
       "      <td>MI</td>\n",
       "      <td>RCB</td>\n",
       "      <td>MI</td>\n",
       "      <td>bat</td>\n",
       "      <td>normal</td>\n",
       "      <td>0</td>\n",
       "      <td>RCB</td>\n",
       "      <td>0</td>\n",
       "      <td>MV Boucher</td>\n",
       "      <td>Wankhede Stadium</td>\n",
       "    </tr>\n",
       "    <tr>\n",
       "      <th>66</th>\n",
       "      <td>2008</td>\n",
       "      <td>Chennai</td>\n",
       "      <td>2008-04-23</td>\n",
       "      <td>CSK</td>\n",
       "      <td>MI</td>\n",
       "      <td>MI</td>\n",
       "      <td>field</td>\n",
       "      <td>normal</td>\n",
       "      <td>0</td>\n",
       "      <td>CSK</td>\n",
       "      <td>6</td>\n",
       "      <td>ML Hayden</td>\n",
       "      <td>MA Chidambaram Stadium, Chepauk</td>\n",
       "    </tr>\n",
       "    <tr>\n",
       "      <th>68</th>\n",
       "      <td>2008</td>\n",
       "      <td>Chandigarh</td>\n",
       "      <td>2008-04-25</td>\n",
       "      <td>KX1P</td>\n",
       "      <td>MI</td>\n",
       "      <td>MI</td>\n",
       "      <td>field</td>\n",
       "      <td>normal</td>\n",
       "      <td>0</td>\n",
       "      <td>KX1P</td>\n",
       "      <td>66</td>\n",
       "      <td>KC Sangakkara</td>\n",
       "      <td>Punjab Cricket Association Stadium, Mohali</td>\n",
       "    </tr>\n",
       "    <tr>\n",
       "      <th>71</th>\n",
       "      <td>2008</td>\n",
       "      <td>Mumbai</td>\n",
       "      <td>2008-04-27</td>\n",
       "      <td>MI</td>\n",
       "      <td>DC</td>\n",
       "      <td>DC</td>\n",
       "      <td>field</td>\n",
       "      <td>normal</td>\n",
       "      <td>0</td>\n",
       "      <td>DC</td>\n",
       "      <td>0</td>\n",
       "      <td>AC Gilchrist</td>\n",
       "      <td>Dr DY Patil Sports Academy</td>\n",
       "    </tr>\n",
       "    <tr>\n",
       "      <th>74</th>\n",
       "      <td>2008</td>\n",
       "      <td>Kolkata</td>\n",
       "      <td>2008-04-29</td>\n",
       "      <td>KKR</td>\n",
       "      <td>MI</td>\n",
       "      <td>KKR</td>\n",
       "      <td>bat</td>\n",
       "      <td>normal</td>\n",
       "      <td>0</td>\n",
       "      <td>MI</td>\n",
       "      <td>0</td>\n",
       "      <td>ST Jayasuriya</td>\n",
       "      <td>Eden Gardens</td>\n",
       "    </tr>\n",
       "  </tbody>\n",
       "</table>\n",
       "</div>"
      ],
      "text/plain": [
       "    season        city        date team1 team2 toss_winner toss_decision  \\\n",
       "62    2008      Mumbai  2008-04-20    MI   RCB          MI           bat   \n",
       "66    2008     Chennai  2008-04-23   CSK    MI          MI         field   \n",
       "68    2008  Chandigarh  2008-04-25  KX1P    MI          MI         field   \n",
       "71    2008      Mumbai  2008-04-27    MI    DC          DC         field   \n",
       "74    2008     Kolkata  2008-04-29   KKR    MI         KKR           bat   \n",
       "\n",
       "    result  dl_applied winner  win_by_runs player_of_match  \\\n",
       "62  normal           0    RCB            0      MV Boucher   \n",
       "66  normal           0    CSK            6       ML Hayden   \n",
       "68  normal           0   KX1P           66   KC Sangakkara   \n",
       "71  normal           0     DC            0    AC Gilchrist   \n",
       "74  normal           0     MI            0   ST Jayasuriya   \n",
       "\n",
       "                                         venue  \n",
       "62                            Wankhede Stadium  \n",
       "66             MA Chidambaram Stadium, Chepauk  \n",
       "68  Punjab Cricket Association Stadium, Mohali  \n",
       "71                  Dr DY Patil Sports Academy  \n",
       "74                                Eden Gardens  "
      ]
     },
     "execution_count": 30,
     "metadata": {},
     "output_type": "execute_result"
    }
   ],
   "source": [
    "MI_df.head()"
   ]
  },
  {
   "cell_type": "code",
   "execution_count": 31,
   "id": "7ffcd9cb",
   "metadata": {},
   "outputs": [
    {
     "data": {
      "text/plain": [
       "win_by_runs     146\n",
       "season         2017\n",
       "team2           SRH\n",
       "dtype: object"
      ]
     },
     "execution_count": 31,
     "metadata": {},
     "output_type": "execute_result"
    }
   ],
   "source": [
    "MI_df[['win_by_runs','season','team2']][MI_df['winner']=='MI'].max()"
   ]
  },
  {
   "cell_type": "markdown",
   "id": "3f711149",
   "metadata": {},
   "source": [
    "The highest win of Mumbai Indians when they batted first, was by 146 runs in 2017 again Sunrisers Hyderabad"
   ]
  },
  {
   "cell_type": "code",
   "execution_count": 32,
   "id": "399a3058",
   "metadata": {
    "scrolled": true
   },
   "outputs": [
    {
     "data": {
      "text/plain": [
       "season  winner\n",
       "2008    MI         7\n",
       "2009    MI         5\n",
       "2010    MI        11\n",
       "2011    MI        10\n",
       "2012    MI        10\n",
       "2013    MI        13\n",
       "2014    MI         7\n",
       "2015    MI        10\n",
       "2016    MI         7\n",
       "2017    MI        12\n",
       "dtype: int64"
      ]
     },
     "execution_count": 32,
     "metadata": {},
     "output_type": "execute_result"
    }
   ],
   "source": [
    "# wins by MI per seasons\n",
    "MI_df[['season','winner']][MI_df['winner']=='MI'].value_counts(sort=False)"
   ]
  },
  {
   "cell_type": "code",
   "execution_count": 33,
   "id": "37d340ed",
   "metadata": {},
   "outputs": [
    {
     "data": {
      "image/png": "[encoded data removed]",
      "text/plain": [
       "<Figure size 432x288 with 1 Axes>"
      ]
     },
     "metadata": {
      "needs_background": "light"
     },
     "output_type": "display_data"
    }
   ],
   "source": [
    "MI_df['season'][MI_df['winner']=='MI'].value_counts(sort=False).plot(kind='bar',color='r')\n",
    "plt.show()"
   ]
  },
  {
   "cell_type": "code",
   "execution_count": 34,
   "id": "30ff5c5f",
   "metadata": {},
   "outputs": [
    {
     "data": {
      "image/png": "[encoded data removed]",
      "text/plain": [
       "<Figure size 432x288 with 1 Axes>"
      ]
     },
     "metadata": {
      "needs_background": "light"
     },
     "output_type": "display_data"
    }
   ],
   "source": [
    "# decisions when MI won the toss\n",
    "sns.countplot(data=MI_df, x='season',hue='toss_decision')\n",
    "plt.show()"
   ]
  },
  {
   "cell_type": "code",
   "execution_count": 35,
   "id": "74a1e048",
   "metadata": {},
   "outputs": [
    {
     "name": "stdout",
     "output_type": "stream",
     "text": [
      "This is how many times MI won the match when it batted first: 22\n"
     ]
    }
   ],
   "source": [
    "# win to loss ration when MI won the toss and elected to bat first\n",
    "wins = MI_df.loc[(MI_df['toss_winner']=='MI') & (MI_df['toss_decision']=='bat') & (MI_df['winner']=='MI')].shape[0]\n",
    "lose = MI_df.loc[ ((MI_df['team1']=='MI') | (MI_df['team2']=='MI')) & (MI_df['toss_decision']=='bat') & (MI_df['winner']!='MI')].shape[0]\n",
    "print(\"This is how many times MI won the match when it batted first:\", wins)"
   ]
  },
  {
   "cell_type": "code",
   "execution_count": 36,
   "id": "c04a3ccc",
   "metadata": {},
   "outputs": [
    {
     "name": "stdout",
     "output_type": "stream",
     "text": [
      "Win percentage when bat first:  43.14 %\n"
     ]
    }
   ],
   "source": [
    "# Win percentage when bat first\n",
    "per_bat = (wins / (wins+lose))*100\n",
    "print(\"Win percentage when bat first: \",\"%.2f\"%per_bat , '%')"
   ]
  },
  {
   "cell_type": "code",
   "execution_count": 37,
   "id": "879f18ac",
   "metadata": {},
   "outputs": [
    {
     "name": "stdout",
     "output_type": "stream",
     "text": [
      "This is how many times MI won the match when it bowled first: 26\n"
     ]
    }
   ],
   "source": [
    "# win to loss ration when MI won the toss and elected to bowl first\n",
    "wins = MI_df.loc[ (MI_df['toss_winner']=='MI') & (MI_df['toss_decision']=='field') & (MI_df['winner']=='MI')].shape[0]\n",
    "lose = MI_df.loc[(MI_df['toss_winner']=='MI') & ((MI_df['team1']=='MI') | (MI_df['team2']=='MI')) & (MI_df['toss_decision']=='field') & (MI_df['winner']!='MI')].shape[0]\n",
    "print(\"This is how many times MI won the match when it bowled first:\", wins)"
   ]
  },
  {
   "cell_type": "code",
   "execution_count": 38,
   "id": "367f0711",
   "metadata": {},
   "outputs": [
    {
     "name": "stdout",
     "output_type": "stream",
     "text": [
      "Win percentage when bowl first:  57.78 %\n"
     ]
    }
   ],
   "source": [
    "# Win percentage when bowl first\n",
    "per_bowl = (wins / (wins+lose))*100\n",
    "print(\"Win percentage when bowl first: \",\"%.2f\"%per_bowl , '%')"
   ]
  },
  {
   "cell_type": "code",
   "execution_count": 39,
   "id": "118864c7",
   "metadata": {},
   "outputs": [
    {
     "data": {
      "image/png": "[encoded data removed]",
      "text/plain": [
       "<Figure size 432x288 with 1 Axes>"
      ]
     },
     "metadata": {},
     "output_type": "display_data"
    }
   ],
   "source": [
    "slices = [per_bat,per_bowl]\n",
    "labels = ['Bat First' , 'Bowl First']\n",
    "plt.pie(slices, labels=labels,shadow=True,explode=[0,0.05],colors=['r','g'],startangle=90,autopct='%0.2f%%')\n",
    "plt.show()"
   ]
  },
  {
   "cell_type": "markdown",
   "id": "8ded1b82",
   "metadata": {},
   "source": [
    "We can conclude that MI has won approximately 60% of the matches when it bowled first"
   ]
  },
  {
   "cell_type": "markdown",
   "id": "9a140db9",
   "metadata": {},
   "source": [
    "#### Mumbai Indians performance based on city they played in"
   ]
  },
  {
   "cell_type": "code",
   "execution_count": 40,
   "id": "5e53f5f0",
   "metadata": {},
   "outputs": [
    {
     "data": {
      "text/plain": [
       "array(['Mumbai', 'Chennai', 'Chandigarh', 'Kolkata', 'Hyderabad', 'Delhi',\n",
       "       'Jaipur', 'Bangalore', 'Cape Town', 'Durban', 'Port Elizabeth',\n",
       "       'East London', 'Johannesburg', 'Centurion', 'Visakhapatnam',\n",
       "       'Pune', 'Dharamsala', 'Abu Dhabi', 'Dubai', 'Sharjah', 'Cuttack',\n",
       "       'Ahmedabad', 'Kanpur', 'Indore', 'Rajkot'], dtype=object)"
      ]
     },
     "execution_count": 40,
     "metadata": {},
     "output_type": "execute_result"
    }
   ],
   "source": [
    "unique_cities = MI_df.city.unique()\n",
    "unique_cities"
   ]
  },
  {
   "cell_type": "code",
   "execution_count": 41,
   "id": "1b26de54",
   "metadata": {},
   "outputs": [
    {
     "name": "stdout",
     "output_type": "stream",
     "text": [
      "Mumbai\n",
      "    season    city        date team1 team2 toss_winner toss_decision  result  \\\n",
      "62    2008  Mumbai  2008-04-20    MI   RCB          MI           bat  normal   \n",
      "71    2008  Mumbai  2008-04-27    MI    DC          DC         field  normal   \n",
      "81    2008  Mumbai  2008-05-04    MI    DD          DD         field  normal   \n",
      "85    2008  Mumbai  2008-05-07    RR    MI          MI         field  normal   \n",
      "95    2008  Mumbai  2008-05-14   CSK    MI          MI         field  normal   \n",
      "..     ...     ...         ...   ...   ...         ...           ...     ...   \n",
      "23    2017  Mumbai  2017-04-22    MI    DD          DD         field  normal   \n",
      "27    2017  Mumbai  2017-04-24   RPS    MI          MI         field  normal   \n",
      "36    2017  Mumbai  2017-05-01   RCB    MI         RCB           bat  normal   \n",
      "49    2017  Mumbai  2017-05-11  KX1P    MI          MI         field  normal   \n",
      "55    2017  Mumbai  2017-05-16   RPS    MI          MI         field  normal   \n",
      "\n",
      "    dl_applied winner  win_by_runs    player_of_match  \\\n",
      "62           0    RCB            0         MV Boucher   \n",
      "71           0     DC            0       AC Gilchrist   \n",
      "81           0     MI           29         SM Pollock   \n",
      "85           0     MI            0            A Nehra   \n",
      "95           0     MI            0      ST Jayasuriya   \n",
      "..         ...    ...          ...                ...   \n",
      "23           0     MI           14     MJ McClenaghan   \n",
      "27           0    RPS            3          BA Stokes   \n",
      "36           0     MI            0          RG Sharma   \n",
      "49           0   KX1P            7            WP Saha   \n",
      "55           0    RPS           20  Washington Sundar   \n",
      "\n",
      "                         venue  \n",
      "62            Wankhede Stadium  \n",
      "71  Dr DY Patil Sports Academy  \n",
      "81  Dr DY Patil Sports Academy  \n",
      "85  Dr DY Patil Sports Academy  \n",
      "95            Wankhede Stadium  \n",
      "..                         ...  \n",
      "23            Wankhede Stadium  \n",
      "27            Wankhede Stadium  \n",
      "36            Wankhede Stadium  \n",
      "49            Wankhede Stadium  \n",
      "55            Wankhede Stadium  \n",
      "\n",
      "[68 rows x 13 columns]\n",
      "Chennai\n",
      "     season     city        date team1 team2 toss_winner toss_decision  \\\n",
      "66     2008  Chennai  2008-04-23   CSK    MI          MI         field   \n",
      "210    2010  Chennai  2010-04-06   CSK    MI         CSK           bat   \n",
      "305    2011  Chennai  2011-05-27   RCB    MI          MI         field   \n",
      "307    2012  Chennai  2012-04-04   CSK    MI          MI         field   \n",
      "385    2013  Chennai  2013-04-06    MI   CSK          MI           bat   \n",
      "558    2015  Chennai  2015-05-08   CSK    MI         CSK           bat   \n",
      "\n",
      "     result  dl_applied winner  win_by_runs player_of_match  \\\n",
      "66   normal           0    CSK            6       ML Hayden   \n",
      "210  normal           0    CSK           24        SK Raina   \n",
      "305  normal           0    RCB           43        CH Gayle   \n",
      "307  normal           0     MI            0         RE Levi   \n",
      "385  normal           0     MI            9      KA Pollard   \n",
      "558  normal           0     MI            0       HH Pandya   \n",
      "\n",
      "                               venue  \n",
      "66   MA Chidambaram Stadium, Chepauk  \n",
      "210  MA Chidambaram Stadium, Chepauk  \n",
      "305  MA Chidambaram Stadium, Chepauk  \n",
      "307  MA Chidambaram Stadium, Chepauk  \n",
      "385  MA Chidambaram Stadium, Chepauk  \n",
      "558  MA Chidambaram Stadium, Chepauk  \n",
      "Chandigarh\n",
      "     season        city        date team1 team2 toss_winner toss_decision  \\\n",
      "68     2008  Chandigarh  2008-04-25  KX1P    MI          MI         field   \n",
      "214    2010  Chandigarh  2010-04-09    MI  KX1P          MI           bat   \n",
      "286    2011  Chandigarh  2011-05-10  KX1P    MI          MI         field   \n",
      "339    2012  Chandigarh  2012-04-25  KX1P    MI        KX1P           bat   \n",
      "504    2014  Chandigarh  2014-05-21  KX1P    MI          MI         field   \n",
      "551    2015  Chandigarh  2015-05-03    MI  KX1P          MI           bat   \n",
      "596    2016  Chandigarh  2016-04-25    MI  KX1P        KX1P         field   \n",
      "\n",
      "     result  dl_applied winner  win_by_runs player_of_match  \\\n",
      "68   normal           0   KX1P           66   KC Sangakkara   \n",
      "214  normal           0   KX1P            0   KC Sangakkara   \n",
      "286  normal           0   KX1P           76        BA Bhatt   \n",
      "339  normal           0     MI            0       AT Rayudu   \n",
      "504  normal           0     MI            0     LMP Simmons   \n",
      "551  normal           0     MI           23     LMP Simmons   \n",
      "596  normal           0     MI           25        PA Patel   \n",
      "\n",
      "                                                 venue  \n",
      "68          Punjab Cricket Association Stadium, Mohali  \n",
      "214         Punjab Cricket Association Stadium, Mohali  \n",
      "286         Punjab Cricket Association Stadium, Mohali  \n",
      "339         Punjab Cricket Association Stadium, Mohali  \n",
      "504         Punjab Cricket Association Stadium, Mohali  \n",
      "551         Punjab Cricket Association Stadium, Mohali  \n",
      "596  Punjab Cricket Association IS Bindra Stadium, ...  \n",
      "Kolkata\n",
      "     season     city        date team1 team2 toss_winner toss_decision  \\\n",
      "74     2008  Kolkata  2008-04-29   KKR    MI         KKR           bat   \n",
      "229    2010  Kolkata  2010-04-19    MI   KKR          MI           bat   \n",
      "302    2011  Kolkata  2011-05-22   KKR    MI          MI         field   \n",
      "362    2012  Kolkata  2012-05-12    MI   KKR          MI           bat   \n",
      "412    2013  Kolkata  2013-04-24   KKR    MI         KKR           bat   \n",
      "455    2013  Kolkata  2013-05-24    RR    MI          RR           bat   \n",
      "456    2013  Kolkata  2013-05-26    MI   CSK          MI           bat   \n",
      "517    2015  Kolkata  2015-04-08    MI   KKR         KKR         field   \n",
      "575    2015  Kolkata  2015-05-24    MI   CSK         CSK         field   \n",
      "580    2016  Kolkata  2016-04-13   KKR    MI          MI         field   \n",
      "52     2017  Kolkata  2017-05-13    MI   KKR         KKR         field   \n",
      "\n",
      "     result  dl_applied winner  win_by_runs  player_of_match         venue  \n",
      "74   normal           0     MI            0    ST Jayasuriya  Eden Gardens  \n",
      "229  normal           0    KKR            0         M Kartik  Eden Gardens  \n",
      "302  normal           0     MI            0     JEC Franklin  Eden Gardens  \n",
      "362  normal           0     MI           27        RG Sharma  Eden Gardens  \n",
      "412  normal           0     MI            0         DR Smith  Eden Gardens  \n",
      "455  normal           0     MI            0  Harbhajan Singh  Eden Gardens  \n",
      "456  normal           0     MI           23       KA Pollard  Eden Gardens  \n",
      "517  normal           0    KKR            0         M Morkel  Eden Gardens  \n",
      "575  normal           0     MI           41        RG Sharma  Eden Gardens  \n",
      "580  normal           0     MI            0        RG Sharma  Eden Gardens  \n",
      "52   normal           0     MI            9        AT Rayudu  Eden Gardens  \n",
      "Hyderabad\n",
      "     season       city        date team1 team2 toss_winner toss_decision  \\\n",
      "101    2008  Hyderabad  2008-05-18    MI    DC          DC         field   \n",
      "259    2011  Hyderabad  2011-04-24    MI    DC          DC         field   \n",
      "422    2013  Hyderabad  2013-05-01    MI   SRH          MI           bat   \n",
      "492    2014  Hyderabad  2014-05-12   SRH    MI         SRH           bat   \n",
      "571    2015  Hyderabad  2015-05-17   SRH    MI         SRH           bat   \n",
      "587    2016  Hyderabad  2016-04-18    MI   SRH         SRH         field   \n",
      "46     2017  Hyderabad  2017-05-08    MI   SRH          MI           bat   \n",
      "58     2017  Hyderabad  2017-05-21    MI   RPS          MI           bat   \n",
      "\n",
      "     result  dl_applied winner  win_by_runs player_of_match  \\\n",
      "101  normal           0     MI           25        DJ Bravo   \n",
      "259  normal           0     MI           37      SL Malinga   \n",
      "422  normal           0    SRH            0        I Sharma   \n",
      "492  normal           0     MI            0       AT Rayudu   \n",
      "571  normal           0     MI            0  MJ McClenaghan   \n",
      "587  normal           0    SRH            0       DA Warner   \n",
      "46   normal           0    SRH            0        S Dhawan   \n",
      "58   normal           0     MI            1       KH Pandya   \n",
      "\n",
      "                                         venue  \n",
      "101  Rajiv Gandhi International Stadium, Uppal  \n",
      "259  Rajiv Gandhi International Stadium, Uppal  \n",
      "422  Rajiv Gandhi International Stadium, Uppal  \n",
      "492  Rajiv Gandhi International Stadium, Uppal  \n",
      "571  Rajiv Gandhi International Stadium, Uppal  \n",
      "587  Rajiv Gandhi International Stadium, Uppal  \n",
      "46   Rajiv Gandhi International Stadium, Uppal  \n",
      "58   Rajiv Gandhi International Stadium, Uppal  \n",
      "Delhi\n",
      "     season   city        date team1 team2 toss_winner toss_decision  result  \\\n",
      "108    2008  Delhi  2008-05-24    MI    DD          DD         field  normal   \n",
      "182    2010  Delhi  2010-03-17    MI    DD          DD         field  normal   \n",
      "237    2011  Delhi  2011-04-10    DD    MI          DD           bat  normal   \n",
      "341    2012  Delhi  2012-04-27    DD    MI          MI         field  normal   \n",
      "407    2013  Delhi  2013-04-21    MI    DD          MI           bat  normal   \n",
      "453    2013  Delhi  2013-05-21   CSK    MI         CSK           bat  normal   \n",
      "538    2015  Delhi  2015-04-23    DD    MI          MI         field  normal   \n",
      "592    2016  Delhi  2016-04-23    DD    MI          MI         field  normal   \n",
      "43     2017  Delhi  2017-05-06    MI    DD          DD         field  normal   \n",
      "\n",
      "     dl_applied winner  win_by_runs player_of_match             venue  \n",
      "108           0     DD            0      KD Karthik  Feroz Shah Kotla  \n",
      "182           0     MI           98    SR Tendulkar  Feroz Shah Kotla  \n",
      "237           0     MI            0      SL Malinga  Feroz Shah Kotla  \n",
      "341           0     DD           37        V Sehwag  Feroz Shah Kotla  \n",
      "407           0     DD            0        V Sehwag  Feroz Shah Kotla  \n",
      "453           0    CSK           48      MEK Hussey  Feroz Shah Kotla  \n",
      "538           0     DD           37         SS Iyer  Feroz Shah Kotla  \n",
      "592           0     DD           10       SV Samson  Feroz Shah Kotla  \n",
      "43            0     MI          146     LMP Simmons  Feroz Shah Kotla  \n",
      "Jaipur\n",
      "     season    city        date team1 team2 toss_winner toss_decision  result  \\\n",
      "112    2008  Jaipur  2008-05-26    MI    RR          RR         field  normal   \n",
      "218    2010  Jaipur  2010-04-11    MI    RR          RR         field  normal   \n",
      "266    2011  Jaipur  2011-04-29    MI    RR          RR         field  normal   \n",
      "376    2012  Jaipur  2012-05-20    RR    MI          RR           bat  normal   \n",
      "402    2013  Jaipur  2013-04-17    RR    MI          RR           bat  normal   \n",
      "\n",
      "     dl_applied winner  win_by_runs player_of_match                   venue  \n",
      "112           0     RR            0   Sohail Tanvir  Sawai Mansingh Stadium  \n",
      "218           0     MI           37    SR Tendulkar  Sawai Mansingh Stadium  \n",
      "266           0     RR            0         J Botha  Sawai Mansingh Stadium  \n",
      "376           0     MI            0        DR Smith  Sawai Mansingh Stadium  \n",
      "402           0     RR           87       AM Rahane  Sawai Mansingh Stadium  \n",
      "Bangalore\n",
      "     season       city        date team1 team2 toss_winner toss_decision  \\\n",
      "89     2008  Bangalore  2008-05-28   RCB    MI          MI         field   \n",
      "225    2010  Bangalore  2010-04-17    MI   RCB         RCB         field   \n",
      "241    2011  Bangalore  2011-04-12   RCB    MI          MI         field   \n",
      "366    2012  Bangalore  2012-05-14   RCB    MI          MI         field   \n",
      "378    2012  Bangalore  2012-05-23   CSK    MI          MI         field   \n",
      "382    2013  Bangalore  2013-04-04   RCB    MI          MI         field   \n",
      "533    2015  Bangalore  2015-04-19    MI   RCB         RCB         field   \n",
      "616    2016  Bangalore  2016-05-11   RCB    MI          MI         field   \n",
      "11     2017  Bangalore  2017-04-14   RCB    MI          MI         field   \n",
      "57     2017  Bangalore  2017-05-19   KKR    MI          MI         field   \n",
      "\n",
      "     result  dl_applied winner  win_by_runs  player_of_match  \\\n",
      "89   normal           0     MI            0     CRD Fernando   \n",
      "225  normal           0     MI           57        R McLaren   \n",
      "241  normal           0     MI            0     SR Tendulkar   \n",
      "366  normal           0     MI            0        AT Rayudu   \n",
      "378  normal           0    CSK           38         MS Dhoni   \n",
      "382  normal           0    RCB            2         CH Gayle   \n",
      "533  normal           0     MI           18  Harbhajan Singh   \n",
      "616  normal           0     MI            0        KH Pandya   \n",
      "11   normal           0     MI            0       KA Pollard   \n",
      "57   normal           0     MI            0        KV Sharma   \n",
      "\n",
      "                     venue  \n",
      "89   M Chinnaswamy Stadium  \n",
      "225  M Chinnaswamy Stadium  \n",
      "241  M Chinnaswamy Stadium  \n",
      "366  M Chinnaswamy Stadium  \n",
      "378  M Chinnaswamy Stadium  \n",
      "382  M Chinnaswamy Stadium  \n",
      "533  M Chinnaswamy Stadium  \n",
      "616  M Chinnaswamy Stadium  \n",
      "11   M Chinnaswamy Stadium  \n",
      "57   M Chinnaswamy Stadium  \n",
      "Cape Town\n",
      "     season       city        date team1 team2 toss_winner toss_decision  \\\n",
      "117    2009  Cape Town  2009-04-18    MI   CSK         CSK         field   \n",
      "\n",
      "     result  dl_applied winner  win_by_runs player_of_match     venue  \n",
      "117  normal           0     MI           19    SR Tendulkar  Newlands  \n",
      "Durban\n",
      "     season    city        date team1 team2 toss_winner toss_decision  result  \\\n",
      "127    2009  Durban  2009-04-25    DC    MI          DC           bat  normal   \n",
      "134    2009  Durban  2009-04-29  KX1P    MI        KX1P           bat  normal   \n",
      "159    2009  Durban  2009-05-14    RR    MI          RR           bat  normal   \n",
      "\n",
      "     dl_applied winner  win_by_runs player_of_match      venue  \n",
      "127           0     DC           12         PP Ojha  Kingsmead  \n",
      "134           0   KX1P            3   KC Sangakkara  Kingsmead  \n",
      "159           0     RR            2        SK Warne  Kingsmead  \n",
      "Port Elizabeth\n",
      "     season            city        date team1 team2 toss_winner toss_decision  \\\n",
      "131    2009  Port Elizabeth  2009-04-27    MI   KKR          MI           bat   \n",
      "152    2009  Port Elizabeth  2009-05-10    MI   RCB          MI           bat   \n",
      "161    2009  Port Elizabeth  2009-05-16    MI   CSK          MI           bat   \n",
      "\n",
      "     result  dl_applied winner  win_by_runs player_of_match             venue  \n",
      "131  normal           0     MI           92    SR Tendulkar  St George's Park  \n",
      "152  normal           0     MI           16       JP Duminy  St George's Park  \n",
      "161  normal           0    CSK            0       ML Hayden  St George's Park  \n",
      "East London\n",
      "     season         city        date team1 team2 toss_winner toss_decision  \\\n",
      "137    2009  East London  2009-05-01    MI   KKR          MI           bat   \n",
      "149    2009  East London  2009-05-08    MI    DD          MI           bat   \n",
      "\n",
      "     result  dl_applied winner  win_by_runs player_of_match         venue  \n",
      "137  normal           0     MI            9       JP Duminy  Buffalo Park  \n",
      "149  normal           0     DD            0         A Nehra  Buffalo Park  \n",
      "Johannesburg\n",
      "     season          city        date team1 team2 toss_winner toss_decision  \\\n",
      "142    2009  Johannesburg  2009-05-03    MI   RCB          MI           bat   \n",
      "\n",
      "     result  dl_applied winner  win_by_runs player_of_match  \\\n",
      "142  normal           0    RCB            0       JH Kallis   \n",
      "\n",
      "                     venue  \n",
      "142  New Wanderers Stadium  \n",
      "Centurion\n",
      "     season       city        date team1 team2 toss_winner toss_decision  \\\n",
      "146    2009  Centurion  2009-05-06    DC    MI          DC           bat   \n",
      "156    2009  Centurion  2009-05-12  KX1P    MI        KX1P           bat   \n",
      "169    2009  Centurion  2009-05-21    MI    DD          DD         field   \n",
      "\n",
      "     result  dl_applied winner  win_by_runs  player_of_match            venue  \n",
      "146  normal           0     DC           19        RG Sharma  SuperSport Park  \n",
      "156  normal           0     MI            0  Harbhajan Singh  SuperSport Park  \n",
      "169  normal           0     DD            0         V Sehwag  SuperSport Park  \n",
      "Visakhapatnam\n",
      "     season           city        date team1 team2 toss_winner toss_decision  \\\n",
      "315    2012  Visakhapatnam  2012-04-09    DC    MI          DC           bat   \n",
      "612    2016  Visakhapatnam  2016-05-08   SRH    MI          MI         field   \n",
      "618    2016  Visakhapatnam  2016-05-13    MI  KX1P          MI           bat   \n",
      "622    2016  Visakhapatnam  2016-05-15    MI    DD          DD         field   \n",
      "\n",
      "     result  dl_applied winner  win_by_runs player_of_match  \\\n",
      "315  normal           0     MI            0       RG Sharma   \n",
      "612  normal           0    SRH           85         A Nehra   \n",
      "618  normal           0   KX1P            0      MP Stoinis   \n",
      "622  normal           0     MI           80       KH Pandya   \n",
      "\n",
      "                                                 venue  \n",
      "315  Dr. Y.S. Rajasekhara Reddy ACA-VDCA Cricket St...  \n",
      "612  Dr. Y.S. Rajasekhara Reddy ACA-VDCA Cricket St...  \n",
      "618  Dr. Y.S. Rajasekhara Reddy ACA-VDCA Cricket St...  \n",
      "622  Dr. Y.S. Rajasekhara Reddy ACA-VDCA Cricket St...  \n",
      "Pune\n",
      "     season  city        date team1 team2 toss_winner toss_decision  result  \\\n",
      "350    2012  Pune  2012-05-03    MI    PW          MI           bat  normal   \n",
      "438    2013  Pune  2013-05-11    PW    MI          PW           bat  normal   \n",
      "604    2016  Pune  2016-05-01   RPS    MI          MI         field  normal   \n",
      "1      2017  Pune  2017-04-06    MI   RPS         RPS         field  normal   \n",
      "\n",
      "     dl_applied winner  win_by_runs player_of_match  \\\n",
      "350           0     MI            1      SL Malinga   \n",
      "438           0     MI            0      MG Johnson   \n",
      "604           0     MI            0       RG Sharma   \n",
      "1             0    RPS            0       SPD Smith   \n",
      "\n",
      "                                       venue  \n",
      "350               Subrata Roy Sahara Stadium  \n",
      "438               Subrata Roy Sahara Stadium  \n",
      "604  Maharashtra Cricket Association Stadium  \n",
      "1    Maharashtra Cricket Association Stadium  \n",
      "Dharamsala\n",
      "     season        city        date team1 team2 toss_winner toss_decision  \\\n",
      "449    2013  Dharamsala  2013-05-18  KX1P    MI          MI         field   \n",
      "\n",
      "     result  dl_applied winner  win_by_runs player_of_match  \\\n",
      "449  normal           0   KX1P           50   Azhar Mahmood   \n",
      "\n",
      "                                            venue  \n",
      "449  Himachal Pradesh Cricket Association Stadium  \n",
      "Abu Dhabi\n",
      "     season       city        date team1 team2 toss_winner toss_decision  \\\n",
      "457    2014  Abu Dhabi  2014-04-16   KKR    MI         KKR           bat   \n",
      "\n",
      "     result  dl_applied winner  win_by_runs player_of_match  \\\n",
      "457  normal           0    KKR           41       JH Kallis   \n",
      "\n",
      "                    venue  \n",
      "457  Sheikh Zayed Stadium  \n",
      "Dubai\n",
      "     season   city        date team1 team2 toss_winner toss_decision  result  \\\n",
      "461    2014  Dubai  2014-04-19    MI   RCB         RCB         field  normal   \n",
      "469    2014  Dubai  2014-04-25    MI   CSK          MI           bat  normal   \n",
      "476    2014  Dubai  2014-04-30   SRH    MI          MI         field  normal   \n",
      "\n",
      "     dl_applied winner  win_by_runs player_of_match  \\\n",
      "461           0    RCB            0        PA Patel   \n",
      "469           0    CSK            0       MM Sharma   \n",
      "476           0    SRH           15         B Kumar   \n",
      "\n",
      "                                   venue  \n",
      "461  Dubai International Cricket Stadium  \n",
      "469  Dubai International Cricket Stadium  \n",
      "476  Dubai International Cricket Stadium  \n",
      "Sharjah\n",
      "     season     city        date team1 team2 toss_winner toss_decision  \\\n",
      "472    2014  Sharjah  2014-04-27    MI    DD          MI           bat   \n",
      "\n",
      "     result  dl_applied winner  win_by_runs player_of_match  \\\n",
      "472  normal           0     DD            0         M Vijay   \n",
      "\n",
      "                       venue  \n",
      "472  Sharjah Cricket Stadium  \n",
      "Cuttack\n",
      "     season     city        date team1 team2 toss_winner toss_decision  \\\n",
      "496    2014  Cuttack  2014-05-14    MI   KKR         KKR         field   \n",
      "\n",
      "     result  dl_applied winner  win_by_runs player_of_match             venue  \n",
      "496  normal           0    KKR            0      RV Uthappa  Barabati Stadium  \n",
      "Ahmedabad\n",
      "     season       city        date team1 team2 toss_winner toss_decision  \\\n",
      "500    2014  Ahmedabad  2014-05-19    MI    RR          MI           bat   \n",
      "525    2015  Ahmedabad  2015-04-14    MI    RR          MI           bat   \n",
      "\n",
      "     result  dl_applied winner  win_by_runs player_of_match  \\\n",
      "500  normal           0     MI           25      MEK Hussey   \n",
      "525  normal           0     RR            0       SPD Smith   \n",
      "\n",
      "                            venue  \n",
      "500  Sardar Patel Stadium, Motera  \n",
      "525  Sardar Patel Stadium, Motera  \n",
      "Kanpur\n",
      "     season    city        date team1 team2 toss_winner toss_decision  result  \\\n",
      "629    2016  Kanpur  2016-05-21    MI    GL          GL         field  normal   \n",
      "\n",
      "     dl_applied winner  win_by_runs player_of_match       venue  \n",
      "629           0     GL            0        SK Raina  Green Park  \n",
      "Indore\n",
      "    season    city        date team1 team2 toss_winner toss_decision  result  \\\n",
      "21    2017  Indore  2017-04-20  KX1P    MI          MI         field  normal   \n",
      "\n",
      "    dl_applied winner  win_by_runs player_of_match                   venue  \n",
      "21           0     MI            0      JC Buttler  Holkar Cricket Stadium  \n",
      "Rajkot\n",
      "    season    city        date team1 team2 toss_winner toss_decision result  \\\n",
      "33    2017  Rajkot  2017-04-29    GL    MI          GL           bat    tie   \n",
      "\n",
      "    dl_applied winner  win_by_runs player_of_match  \\\n",
      "33           0     MI            0       KH Pandya   \n",
      "\n",
      "                                     venue  \n",
      "33  Saurashtra Cricket Association Stadium  \n"
     ]
    }
   ],
   "source": [
    "cities = MI_df.groupby('city')\n",
    "for city in unique_cities:\n",
    "    print(city)\n",
    "    print(cities.get_group(city))"
   ]
  },
  {
   "cell_type": "code",
   "execution_count": 42,
   "id": "0e4af229",
   "metadata": {},
   "outputs": [
    {
     "data": {
      "text/html": [
       "<div>\n",
       "<style scoped>\n",
       "    .dataframe tbody tr th:only-of-type {\n",
       "        vertical-align: middle;\n",
       "    }\n",
       "\n",
       "    .dataframe tbody tr th {\n",
       "        vertical-align: top;\n",
       "    }\n",
       "\n",
       "    .dataframe thead th {\n",
       "        text-align: right;\n",
       "    }\n",
       "</style>\n",
       "<table border=\"1\" class=\"dataframe\">\n",
       "  <thead>\n",
       "    <tr style=\"text-align: right;\">\n",
       "      <th></th>\n",
       "      <th>season</th>\n",
       "      <th>city</th>\n",
       "      <th>date</th>\n",
       "      <th>team1</th>\n",
       "      <th>team2</th>\n",
       "      <th>toss_winner</th>\n",
       "      <th>toss_decision</th>\n",
       "      <th>result</th>\n",
       "      <th>dl_applied</th>\n",
       "      <th>winner</th>\n",
       "      <th>win_by_runs</th>\n",
       "      <th>player_of_match</th>\n",
       "      <th>venue</th>\n",
       "    </tr>\n",
       "  </thead>\n",
       "  <tbody>\n",
       "    <tr>\n",
       "      <th>500</th>\n",
       "      <td>2014</td>\n",
       "      <td>Ahmedabad</td>\n",
       "      <td>2014-05-19</td>\n",
       "      <td>MI</td>\n",
       "      <td>RR</td>\n",
       "      <td>MI</td>\n",
       "      <td>bat</td>\n",
       "      <td>normal</td>\n",
       "      <td>0</td>\n",
       "      <td>MI</td>\n",
       "      <td>25</td>\n",
       "      <td>MEK Hussey</td>\n",
       "      <td>Sardar Patel Stadium, Motera</td>\n",
       "    </tr>\n",
       "  </tbody>\n",
       "</table>\n",
       "</div>"
      ],
      "text/plain": [
       "     season       city        date team1 team2 toss_winner toss_decision  \\\n",
       "500    2014  Ahmedabad  2014-05-19    MI    RR          MI           bat   \n",
       "\n",
       "     result  dl_applied winner  win_by_runs player_of_match  \\\n",
       "500  normal           0     MI           25      MEK Hussey   \n",
       "\n",
       "                            venue  \n",
       "500  Sardar Patel Stadium, Motera  "
      ]
     },
     "execution_count": 42,
     "metadata": {},
     "output_type": "execute_result"
    }
   ],
   "source": [
    "MI_df.loc[ (MI_df.winner=='MI') & (MI_df.city=='Ahmedabad') ]"
   ]
  },
  {
   "cell_type": "code",
   "execution_count": 43,
   "id": "a1bbde76",
   "metadata": {},
   "outputs": [
    {
     "name": "stdout",
     "output_type": "stream",
     "text": [
      "Number of wins in Mumbai are: 45\n",
      "Number of wins in Chennai are: 3\n",
      "Number of wins in Chandigarh are: 4\n",
      "Number of wins in Kolkata are: 9\n",
      "Number of wins in Hyderabad are: 5\n",
      "Number of wins in Delhi are: 3\n",
      "Number of wins in Jaipur are: 2\n",
      "Number of wins in Bangalore are: 8\n",
      "Number of wins in Cape Town are: 1\n",
      "Number of wins in Durban are: 0\n",
      "Number of wins in Port Elizabeth are: 2\n",
      "Number of wins in East London are: 1\n",
      "Number of wins in Johannesburg are: 0\n",
      "Number of wins in Centurion are: 1\n",
      "Number of wins in Visakhapatnam are: 2\n",
      "Number of wins in Pune are: 3\n",
      "Number of wins in Dharamsala are: 0\n",
      "Number of wins in Abu Dhabi are: 0\n",
      "Number of wins in Dubai are: 0\n",
      "Number of wins in Sharjah are: 0\n",
      "Number of wins in Cuttack are: 0\n",
      "Number of wins in Ahmedabad are: 1\n",
      "Number of wins in Kanpur are: 0\n",
      "Number of wins in Indore are: 1\n",
      "Number of wins in Rajkot are: 1\n"
     ]
    }
   ],
   "source": [
    "for city in unique_cities:\n",
    "    wins = MI_df.loc[ (MI_df.winner=='MI') & (MI_df.city==city) ].shape[0]\n",
    "    print(\"Number of wins in {0} are: {1}\".format(city,wins))"
   ]
  },
  {
   "cell_type": "code",
   "execution_count": 44,
   "id": "5d13fe26",
   "metadata": {},
   "outputs": [
    {
     "data": {
      "text/plain": [
       "[('Mumbai', 45),\n",
       " ('Kolkata', 9),\n",
       " ('Bangalore', 8),\n",
       " ('Hyderabad', 5),\n",
       " ('Chandigarh', 4),\n",
       " ('Chennai', 3),\n",
       " ('Delhi', 3),\n",
       " ('Pune', 3),\n",
       " ('Jaipur', 2),\n",
       " ('Port Elizabeth', 2),\n",
       " ('Visakhapatnam', 2),\n",
       " ('Cape Town', 1),\n",
       " ('East London', 1),\n",
       " ('Centurion', 1),\n",
       " ('Ahmedabad', 1),\n",
       " ('Indore', 1),\n",
       " ('Rajkot', 1),\n",
       " ('Durban', 0),\n",
       " ('Johannesburg', 0),\n",
       " ('Dharamsala', 0),\n",
       " ('Abu Dhabi', 0),\n",
       " ('Dubai', 0),\n",
       " ('Sharjah', 0),\n",
       " ('Cuttack', 0),\n",
       " ('Kanpur', 0)]"
      ]
     },
     "execution_count": 44,
     "metadata": {},
     "output_type": "execute_result"
    }
   ],
   "source": [
    "# Writing more optimized code using a dictionary\n",
    "wins_by_cities = {}\n",
    "for city in unique_cities:\n",
    "    if city not in wins_by_cities.keys():\n",
    "        wins_by_cities[city] = MI_df.loc[ (MI_df.winner=='MI') & (MI_df.city==city) ].shape[0]\n",
    "        \n",
    "# sorting dictionary values based on win count\n",
    "sorted_wins_cities = sorted(wins_by_cities.items(), key=lambda x: x[1], reverse=True)\n",
    "sorted_wins_cities"
   ]
  },
  {
   "cell_type": "code",
   "execution_count": 45,
   "id": "3b9afe02",
   "metadata": {},
   "outputs": [
    {
     "data": {
      "image/png": "[encoded data removed]",
      "text/plain": [
       "<Figure size 432x288 with 1 Axes>"
      ]
     },
     "metadata": {
      "needs_background": "light"
     },
     "output_type": "display_data"
    }
   ],
   "source": [
    "x_val = [x[0] for x in sorted_wins_cities][:6]\n",
    "y_val = [x[1] for x in sorted_wins_cities][:6]\n",
    "\n",
    "plt.bar(x_val,y_val,width=0.5,color='g')\n",
    "plt.xticks(x_val, rotation=45)\n",
    "plt.show()"
   ]
  },
  {
   "cell_type": "markdown",
   "id": "4a1b99af",
   "metadata": {},
   "source": [
    "We can conclude that most of MI wins were in their home ground followed by other local cities. They had almost no wins on international pitches."
   ]
  },
  {
   "cell_type": "code",
   "execution_count": 46,
   "id": "a2f7b8a0",
   "metadata": {},
   "outputs": [
    {
     "data": {
      "image/png": "[encoded data removed]",
      "text/plain": [
       "<Figure size 432x288 with 1 Axes>"
      ]
     },
     "metadata": {
      "needs_background": "light"
     },
     "output_type": "display_data"
    }
   ],
   "source": [
    "# Also lets see who got most man of the matches awards from MI\n",
    "MI_df.player_of_match.value_counts()[:6].plot(kind='bar',color='y')\n",
    "plt.show()"
   ]
  },
  {
   "cell_type": "markdown",
   "id": "921c4353",
   "metadata": {},
   "source": [
    "These players got most MoM awards therefore they cant be leftout from the squad"
   ]
  },
  {
   "cell_type": "markdown",
   "id": "0f222364",
   "metadata": {},
   "source": [
    "### Head to head matches of MI with most match winning teams"
   ]
  },
  {
   "cell_type": "code",
   "execution_count": 47,
   "id": "a76a55c8",
   "metadata": {},
   "outputs": [
    {
     "data": {
      "text/plain": [
       "['CSK', 'KX1P', 'DD', 'RCB', 'RR', 'SRH', 'KKR', 'RPS']"
      ]
     },
     "execution_count": 47,
     "metadata": {},
     "output_type": "execute_result"
    }
   ],
   "source": [
    "strong_teams = MI_df.winner.value_counts().index.to_list()[1:9]\n",
    "strong_teams"
   ]
  },
  {
   "cell_type": "code",
   "execution_count": 48,
   "id": "41196849",
   "metadata": {},
   "outputs": [
    {
     "name": "stdout",
     "output_type": "stream",
     "text": [
      "MI has won 12 matches against CSK, and their win percentage is: 54.55%\n",
      "\n",
      "MI has won 10 matches against KX1P, and their win percentage is: 50.00%\n",
      "\n",
      "MI has won 11 matches against DD, and their win percentage is: 55.00%\n",
      "\n",
      "MI has won 13 matches against RCB, and their win percentage is: 61.90%\n",
      "\n",
      "MI has won 10 matches against RR, and their win percentage is: 62.50%\n",
      "\n",
      "MI has won 5 matches against SRH, and their win percentage is: 50.00%\n",
      "\n",
      "MI has won 16 matches against KKR, and their win percentage is: 76.19%\n",
      "\n",
      "MI has won 2 matches against RPS, and their win percentage is: 33.33%\n",
      "\n"
     ]
    }
   ],
   "source": [
    "for team in strong_teams:\n",
    "    df = MI_df.loc[ (MI_df.team1==team) | ((MI_df.team2==team))]\n",
    "    wins= df.loc[ df.winner=='MI' ].shape[0]\n",
    "    print(\"MI has won {0} matches against {1}, and their win percentage is: {2:.2f}%\\n\"\\\n",
    "          .format(wins, team, (wins/df.shape[0])*100))"
   ]
  },
  {
   "cell_type": "markdown",
   "id": "0dc0b740",
   "metadata": {},
   "source": [
    "#### According to the results, RPS,KXIP, CSK, DD and SRH can be the most competitive teams for the upcoming IPL. And for MI to win IPL, it should focus more against these teams."
   ]
  },
  {
   "cell_type": "code",
   "execution_count": 49,
   "id": "ebdc3581",
   "metadata": {},
   "outputs": [],
   "source": [
    "# working with df2"
   ]
  },
  {
   "cell_type": "code",
   "execution_count": 56,
   "id": "6cbfe225",
   "metadata": {},
   "outputs": [],
   "source": [
    "# mapping every team name with their abbreviations\n",
    "df2.replace(['Kolkata Knight Riders', 'Rajasthan Royals', 'Chennai Super Kings',\n",
    "       'Deccan Chargers', 'Mumbai Indians', 'Kings XI Punjab',\n",
    "       'Royal Challengers Bangalore', 'Delhi Daredevils',\n",
    "       'Kochi Tuskers Kerala', 'Pune Warriors', 'Sunrisers Hyderabad',\n",
    "       'Rising Pune Supergiants', 'Gujarat Lions','Rising Pune Supergiant'],value=['KKR' , 'RR', 'CSK','DC','MI','KX1P','RCB','DD','KTK','PW','SRH','RPS','GL','RPS'],inplace=True)"
   ]
  },
  {
   "cell_type": "code",
   "execution_count": 57,
   "id": "65324ae2",
   "metadata": {},
   "outputs": [
    {
     "data": {
      "text/html": [
       "<div>\n",
       "<style scoped>\n",
       "    .dataframe tbody tr th:only-of-type {\n",
       "        vertical-align: middle;\n",
       "    }\n",
       "\n",
       "    .dataframe tbody tr th {\n",
       "        vertical-align: top;\n",
       "    }\n",
       "\n",
       "    .dataframe thead th {\n",
       "        text-align: right;\n",
       "    }\n",
       "</style>\n",
       "<table border=\"1\" class=\"dataframe\">\n",
       "  <thead>\n",
       "    <tr style=\"text-align: right;\">\n",
       "      <th></th>\n",
       "      <th>match_id</th>\n",
       "      <th>inning</th>\n",
       "      <th>batting_team</th>\n",
       "      <th>bowling_team</th>\n",
       "      <th>over</th>\n",
       "      <th>ball</th>\n",
       "      <th>batsman</th>\n",
       "      <th>non_striker</th>\n",
       "      <th>bowler</th>\n",
       "      <th>is_super_over</th>\n",
       "      <th>...</th>\n",
       "      <th>bye_runs</th>\n",
       "      <th>legbye_runs</th>\n",
       "      <th>noball_runs</th>\n",
       "      <th>penalty_runs</th>\n",
       "      <th>batsman_runs</th>\n",
       "      <th>extra_runs</th>\n",
       "      <th>total_runs</th>\n",
       "      <th>player_dismissed</th>\n",
       "      <th>dismissal_kind</th>\n",
       "      <th>fielder</th>\n",
       "    </tr>\n",
       "  </thead>\n",
       "  <tbody>\n",
       "    <tr>\n",
       "      <th>0</th>\n",
       "      <td>1</td>\n",
       "      <td>1</td>\n",
       "      <td>SRH</td>\n",
       "      <td>RCB</td>\n",
       "      <td>1</td>\n",
       "      <td>1</td>\n",
       "      <td>DA Warner</td>\n",
       "      <td>S Dhawan</td>\n",
       "      <td>TS Mills</td>\n",
       "      <td>0</td>\n",
       "      <td>...</td>\n",
       "      <td>0</td>\n",
       "      <td>0</td>\n",
       "      <td>0</td>\n",
       "      <td>0</td>\n",
       "      <td>0</td>\n",
       "      <td>0</td>\n",
       "      <td>0</td>\n",
       "      <td>NaN</td>\n",
       "      <td>NaN</td>\n",
       "      <td>NaN</td>\n",
       "    </tr>\n",
       "    <tr>\n",
       "      <th>1</th>\n",
       "      <td>1</td>\n",
       "      <td>1</td>\n",
       "      <td>SRH</td>\n",
       "      <td>RCB</td>\n",
       "      <td>1</td>\n",
       "      <td>2</td>\n",
       "      <td>DA Warner</td>\n",
       "      <td>S Dhawan</td>\n",
       "      <td>TS Mills</td>\n",
       "      <td>0</td>\n",
       "      <td>...</td>\n",
       "      <td>0</td>\n",
       "      <td>0</td>\n",
       "      <td>0</td>\n",
       "      <td>0</td>\n",
       "      <td>0</td>\n",
       "      <td>0</td>\n",
       "      <td>0</td>\n",
       "      <td>NaN</td>\n",
       "      <td>NaN</td>\n",
       "      <td>NaN</td>\n",
       "    </tr>\n",
       "    <tr>\n",
       "      <th>2</th>\n",
       "      <td>1</td>\n",
       "      <td>1</td>\n",
       "      <td>SRH</td>\n",
       "      <td>RCB</td>\n",
       "      <td>1</td>\n",
       "      <td>3</td>\n",
       "      <td>DA Warner</td>\n",
       "      <td>S Dhawan</td>\n",
       "      <td>TS Mills</td>\n",
       "      <td>0</td>\n",
       "      <td>...</td>\n",
       "      <td>0</td>\n",
       "      <td>0</td>\n",
       "      <td>0</td>\n",
       "      <td>0</td>\n",
       "      <td>4</td>\n",
       "      <td>0</td>\n",
       "      <td>4</td>\n",
       "      <td>NaN</td>\n",
       "      <td>NaN</td>\n",
       "      <td>NaN</td>\n",
       "    </tr>\n",
       "    <tr>\n",
       "      <th>3</th>\n",
       "      <td>1</td>\n",
       "      <td>1</td>\n",
       "      <td>SRH</td>\n",
       "      <td>RCB</td>\n",
       "      <td>1</td>\n",
       "      <td>4</td>\n",
       "      <td>DA Warner</td>\n",
       "      <td>S Dhawan</td>\n",
       "      <td>TS Mills</td>\n",
       "      <td>0</td>\n",
       "      <td>...</td>\n",
       "      <td>0</td>\n",
       "      <td>0</td>\n",
       "      <td>0</td>\n",
       "      <td>0</td>\n",
       "      <td>0</td>\n",
       "      <td>0</td>\n",
       "      <td>0</td>\n",
       "      <td>NaN</td>\n",
       "      <td>NaN</td>\n",
       "      <td>NaN</td>\n",
       "    </tr>\n",
       "    <tr>\n",
       "      <th>4</th>\n",
       "      <td>1</td>\n",
       "      <td>1</td>\n",
       "      <td>SRH</td>\n",
       "      <td>RCB</td>\n",
       "      <td>1</td>\n",
       "      <td>5</td>\n",
       "      <td>DA Warner</td>\n",
       "      <td>S Dhawan</td>\n",
       "      <td>TS Mills</td>\n",
       "      <td>0</td>\n",
       "      <td>...</td>\n",
       "      <td>0</td>\n",
       "      <td>0</td>\n",
       "      <td>0</td>\n",
       "      <td>0</td>\n",
       "      <td>0</td>\n",
       "      <td>2</td>\n",
       "      <td>2</td>\n",
       "      <td>NaN</td>\n",
       "      <td>NaN</td>\n",
       "      <td>NaN</td>\n",
       "    </tr>\n",
       "  </tbody>\n",
       "</table>\n",
       "<p>5 rows × 21 columns</p>\n",
       "</div>"
      ],
      "text/plain": [
       "   match_id  inning batting_team bowling_team  over  ball    batsman  \\\n",
       "0         1       1          SRH          RCB     1     1  DA Warner   \n",
       "1         1       1          SRH          RCB     1     2  DA Warner   \n",
       "2         1       1          SRH          RCB     1     3  DA Warner   \n",
       "3         1       1          SRH          RCB     1     4  DA Warner   \n",
       "4         1       1          SRH          RCB     1     5  DA Warner   \n",
       "\n",
       "  non_striker    bowler  is_super_over  ...  bye_runs  legbye_runs  \\\n",
       "0    S Dhawan  TS Mills              0  ...         0            0   \n",
       "1    S Dhawan  TS Mills              0  ...         0            0   \n",
       "2    S Dhawan  TS Mills              0  ...         0            0   \n",
       "3    S Dhawan  TS Mills              0  ...         0            0   \n",
       "4    S Dhawan  TS Mills              0  ...         0            0   \n",
       "\n",
       "   noball_runs  penalty_runs  batsman_runs  extra_runs  total_runs  \\\n",
       "0            0             0             0           0           0   \n",
       "1            0             0             0           0           0   \n",
       "2            0             0             4           0           4   \n",
       "3            0             0             0           0           0   \n",
       "4            0             0             0           2           2   \n",
       "\n",
       "   player_dismissed dismissal_kind fielder  \n",
       "0               NaN            NaN     NaN  \n",
       "1               NaN            NaN     NaN  \n",
       "2               NaN            NaN     NaN  \n",
       "3               NaN            NaN     NaN  \n",
       "4               NaN            NaN     NaN  \n",
       "\n",
       "[5 rows x 21 columns]"
      ]
     },
     "execution_count": 57,
     "metadata": {},
     "output_type": "execute_result"
    }
   ],
   "source": [
    "df2.head()"
   ]
  },
  {
   "cell_type": "code",
   "execution_count": 58,
   "id": "8a613a2a",
   "metadata": {},
   "outputs": [
    {
     "data": {
      "text/html": [
       "<div>\n",
       "<style scoped>\n",
       "    .dataframe tbody tr th:only-of-type {\n",
       "        vertical-align: middle;\n",
       "    }\n",
       "\n",
       "    .dataframe tbody tr th {\n",
       "        vertical-align: top;\n",
       "    }\n",
       "\n",
       "    .dataframe thead th {\n",
       "        text-align: right;\n",
       "    }\n",
       "</style>\n",
       "<table border=\"1\" class=\"dataframe\">\n",
       "  <thead>\n",
       "    <tr style=\"text-align: right;\">\n",
       "      <th></th>\n",
       "      <th>match_id</th>\n",
       "      <th>inning</th>\n",
       "      <th>batting_team</th>\n",
       "      <th>bowling_team</th>\n",
       "      <th>over</th>\n",
       "      <th>ball</th>\n",
       "      <th>batsman</th>\n",
       "      <th>non_striker</th>\n",
       "      <th>bowler</th>\n",
       "      <th>is_super_over</th>\n",
       "      <th>...</th>\n",
       "      <th>bye_runs</th>\n",
       "      <th>legbye_runs</th>\n",
       "      <th>noball_runs</th>\n",
       "      <th>penalty_runs</th>\n",
       "      <th>batsman_runs</th>\n",
       "      <th>extra_runs</th>\n",
       "      <th>total_runs</th>\n",
       "      <th>player_dismissed</th>\n",
       "      <th>dismissal_kind</th>\n",
       "      <th>fielder</th>\n",
       "    </tr>\n",
       "  </thead>\n",
       "  <tbody>\n",
       "    <tr>\n",
       "      <th>248</th>\n",
       "      <td>2</td>\n",
       "      <td>1</td>\n",
       "      <td>MI</td>\n",
       "      <td>RPS</td>\n",
       "      <td>1</td>\n",
       "      <td>1</td>\n",
       "      <td>PA Patel</td>\n",
       "      <td>JC Buttler</td>\n",
       "      <td>AB Dinda</td>\n",
       "      <td>0</td>\n",
       "      <td>...</td>\n",
       "      <td>0</td>\n",
       "      <td>0</td>\n",
       "      <td>0</td>\n",
       "      <td>0</td>\n",
       "      <td>0</td>\n",
       "      <td>1</td>\n",
       "      <td>1</td>\n",
       "      <td>NaN</td>\n",
       "      <td>NaN</td>\n",
       "      <td>NaN</td>\n",
       "    </tr>\n",
       "    <tr>\n",
       "      <th>249</th>\n",
       "      <td>2</td>\n",
       "      <td>1</td>\n",
       "      <td>MI</td>\n",
       "      <td>RPS</td>\n",
       "      <td>1</td>\n",
       "      <td>2</td>\n",
       "      <td>PA Patel</td>\n",
       "      <td>JC Buttler</td>\n",
       "      <td>AB Dinda</td>\n",
       "      <td>0</td>\n",
       "      <td>...</td>\n",
       "      <td>0</td>\n",
       "      <td>0</td>\n",
       "      <td>0</td>\n",
       "      <td>0</td>\n",
       "      <td>0</td>\n",
       "      <td>0</td>\n",
       "      <td>0</td>\n",
       "      <td>NaN</td>\n",
       "      <td>NaN</td>\n",
       "      <td>NaN</td>\n",
       "    </tr>\n",
       "    <tr>\n",
       "      <th>250</th>\n",
       "      <td>2</td>\n",
       "      <td>1</td>\n",
       "      <td>MI</td>\n",
       "      <td>RPS</td>\n",
       "      <td>1</td>\n",
       "      <td>3</td>\n",
       "      <td>PA Patel</td>\n",
       "      <td>JC Buttler</td>\n",
       "      <td>AB Dinda</td>\n",
       "      <td>0</td>\n",
       "      <td>...</td>\n",
       "      <td>0</td>\n",
       "      <td>0</td>\n",
       "      <td>0</td>\n",
       "      <td>0</td>\n",
       "      <td>1</td>\n",
       "      <td>0</td>\n",
       "      <td>1</td>\n",
       "      <td>NaN</td>\n",
       "      <td>NaN</td>\n",
       "      <td>NaN</td>\n",
       "    </tr>\n",
       "    <tr>\n",
       "      <th>251</th>\n",
       "      <td>2</td>\n",
       "      <td>1</td>\n",
       "      <td>MI</td>\n",
       "      <td>RPS</td>\n",
       "      <td>1</td>\n",
       "      <td>4</td>\n",
       "      <td>JC Buttler</td>\n",
       "      <td>PA Patel</td>\n",
       "      <td>AB Dinda</td>\n",
       "      <td>0</td>\n",
       "      <td>...</td>\n",
       "      <td>0</td>\n",
       "      <td>0</td>\n",
       "      <td>0</td>\n",
       "      <td>0</td>\n",
       "      <td>5</td>\n",
       "      <td>0</td>\n",
       "      <td>5</td>\n",
       "      <td>NaN</td>\n",
       "      <td>NaN</td>\n",
       "      <td>NaN</td>\n",
       "    </tr>\n",
       "    <tr>\n",
       "      <th>252</th>\n",
       "      <td>2</td>\n",
       "      <td>1</td>\n",
       "      <td>MI</td>\n",
       "      <td>RPS</td>\n",
       "      <td>1</td>\n",
       "      <td>5</td>\n",
       "      <td>PA Patel</td>\n",
       "      <td>JC Buttler</td>\n",
       "      <td>AB Dinda</td>\n",
       "      <td>0</td>\n",
       "      <td>...</td>\n",
       "      <td>0</td>\n",
       "      <td>0</td>\n",
       "      <td>0</td>\n",
       "      <td>0</td>\n",
       "      <td>4</td>\n",
       "      <td>0</td>\n",
       "      <td>4</td>\n",
       "      <td>NaN</td>\n",
       "      <td>NaN</td>\n",
       "      <td>NaN</td>\n",
       "    </tr>\n",
       "  </tbody>\n",
       "</table>\n",
       "<p>5 rows × 21 columns</p>\n",
       "</div>"
      ],
      "text/plain": [
       "     match_id  inning batting_team bowling_team  over  ball     batsman  \\\n",
       "248         2       1           MI          RPS     1     1    PA Patel   \n",
       "249         2       1           MI          RPS     1     2    PA Patel   \n",
       "250         2       1           MI          RPS     1     3    PA Patel   \n",
       "251         2       1           MI          RPS     1     4  JC Buttler   \n",
       "252         2       1           MI          RPS     1     5    PA Patel   \n",
       "\n",
       "    non_striker    bowler  is_super_over  ...  bye_runs  legbye_runs  \\\n",
       "248  JC Buttler  AB Dinda              0  ...         0            0   \n",
       "249  JC Buttler  AB Dinda              0  ...         0            0   \n",
       "250  JC Buttler  AB Dinda              0  ...         0            0   \n",
       "251    PA Patel  AB Dinda              0  ...         0            0   \n",
       "252  JC Buttler  AB Dinda              0  ...         0            0   \n",
       "\n",
       "     noball_runs  penalty_runs  batsman_runs  extra_runs  total_runs  \\\n",
       "248            0             0             0           1           1   \n",
       "249            0             0             0           0           0   \n",
       "250            0             0             1           0           1   \n",
       "251            0             0             5           0           5   \n",
       "252            0             0             4           0           4   \n",
       "\n",
       "     player_dismissed dismissal_kind fielder  \n",
       "248               NaN            NaN     NaN  \n",
       "249               NaN            NaN     NaN  \n",
       "250               NaN            NaN     NaN  \n",
       "251               NaN            NaN     NaN  \n",
       "252               NaN            NaN     NaN  \n",
       "\n",
       "[5 rows x 21 columns]"
      ]
     },
     "execution_count": 58,
     "metadata": {},
     "output_type": "execute_result"
    }
   ],
   "source": [
    "# extracting games of Mumbai Indians\n",
    "MI_df2 = df2.loc[ (df2.batting_team=='MI') | (df2.bowling_team=='MI') ]\n",
    "MI_df2.head()"
   ]
  },
  {
   "cell_type": "code",
   "execution_count": 59,
   "id": "db1eb43c",
   "metadata": {},
   "outputs": [
    {
     "data": {
      "text/plain": [
       "(37822, 21)"
      ]
     },
     "execution_count": 59,
     "metadata": {},
     "output_type": "execute_result"
    }
   ],
   "source": [
    "MI_df2.shape"
   ]
  },
  {
   "cell_type": "markdown",
   "id": "e047748e",
   "metadata": {},
   "source": [
    "Analysing the teams performance against the most strongest teams, as found above."
   ]
  },
  {
   "cell_type": "code",
   "execution_count": 60,
   "id": "d1e07b15",
   "metadata": {},
   "outputs": [
    {
     "data": {
      "text/plain": [
       "['CSK', 'KX1P', 'DD', 'RCB', 'RR', 'SRH', 'KKR', 'RPS']"
      ]
     },
     "execution_count": 60,
     "metadata": {},
     "output_type": "execute_result"
    }
   ],
   "source": [
    "strong_teams"
   ]
  },
  {
   "cell_type": "code",
   "execution_count": 150,
   "id": "f5ffd956",
   "metadata": {},
   "outputs": [],
   "source": [
    "# also it was analyised that RPS,KXIP, CSK, DD and SRH can be the most competitive teams\n",
    "# lets analyse our team performance against one of these teams - similar analysis can be done for other teams"
   ]
  },
  {
   "cell_type": "markdown",
   "id": "ebb820a5",
   "metadata": {},
   "source": [
    "#### Against RPS"
   ]
  },
  {
   "cell_type": "code",
   "execution_count": 62,
   "id": "e2f40e96",
   "metadata": {},
   "outputs": [
    {
     "data": {
      "text/html": [
       "<div>\n",
       "<style scoped>\n",
       "    .dataframe tbody tr th:only-of-type {\n",
       "        vertical-align: middle;\n",
       "    }\n",
       "\n",
       "    .dataframe tbody tr th {\n",
       "        vertical-align: top;\n",
       "    }\n",
       "\n",
       "    .dataframe thead th {\n",
       "        text-align: right;\n",
       "    }\n",
       "</style>\n",
       "<table border=\"1\" class=\"dataframe\">\n",
       "  <thead>\n",
       "    <tr style=\"text-align: right;\">\n",
       "      <th></th>\n",
       "      <th>match_id</th>\n",
       "      <th>inning</th>\n",
       "      <th>batting_team</th>\n",
       "      <th>bowling_team</th>\n",
       "      <th>over</th>\n",
       "      <th>ball</th>\n",
       "      <th>batsman</th>\n",
       "      <th>non_striker</th>\n",
       "      <th>bowler</th>\n",
       "      <th>is_super_over</th>\n",
       "      <th>...</th>\n",
       "      <th>bye_runs</th>\n",
       "      <th>legbye_runs</th>\n",
       "      <th>noball_runs</th>\n",
       "      <th>penalty_runs</th>\n",
       "      <th>batsman_runs</th>\n",
       "      <th>extra_runs</th>\n",
       "      <th>total_runs</th>\n",
       "      <th>player_dismissed</th>\n",
       "      <th>dismissal_kind</th>\n",
       "      <th>fielder</th>\n",
       "    </tr>\n",
       "  </thead>\n",
       "  <tbody>\n",
       "    <tr>\n",
       "      <th>248</th>\n",
       "      <td>2</td>\n",
       "      <td>1</td>\n",
       "      <td>MI</td>\n",
       "      <td>RPS</td>\n",
       "      <td>1</td>\n",
       "      <td>1</td>\n",
       "      <td>PA Patel</td>\n",
       "      <td>JC Buttler</td>\n",
       "      <td>AB Dinda</td>\n",
       "      <td>0</td>\n",
       "      <td>...</td>\n",
       "      <td>0</td>\n",
       "      <td>0</td>\n",
       "      <td>0</td>\n",
       "      <td>0</td>\n",
       "      <td>0</td>\n",
       "      <td>1</td>\n",
       "      <td>1</td>\n",
       "      <td>NaN</td>\n",
       "      <td>NaN</td>\n",
       "      <td>NaN</td>\n",
       "    </tr>\n",
       "    <tr>\n",
       "      <th>249</th>\n",
       "      <td>2</td>\n",
       "      <td>1</td>\n",
       "      <td>MI</td>\n",
       "      <td>RPS</td>\n",
       "      <td>1</td>\n",
       "      <td>2</td>\n",
       "      <td>PA Patel</td>\n",
       "      <td>JC Buttler</td>\n",
       "      <td>AB Dinda</td>\n",
       "      <td>0</td>\n",
       "      <td>...</td>\n",
       "      <td>0</td>\n",
       "      <td>0</td>\n",
       "      <td>0</td>\n",
       "      <td>0</td>\n",
       "      <td>0</td>\n",
       "      <td>0</td>\n",
       "      <td>0</td>\n",
       "      <td>NaN</td>\n",
       "      <td>NaN</td>\n",
       "      <td>NaN</td>\n",
       "    </tr>\n",
       "    <tr>\n",
       "      <th>250</th>\n",
       "      <td>2</td>\n",
       "      <td>1</td>\n",
       "      <td>MI</td>\n",
       "      <td>RPS</td>\n",
       "      <td>1</td>\n",
       "      <td>3</td>\n",
       "      <td>PA Patel</td>\n",
       "      <td>JC Buttler</td>\n",
       "      <td>AB Dinda</td>\n",
       "      <td>0</td>\n",
       "      <td>...</td>\n",
       "      <td>0</td>\n",
       "      <td>0</td>\n",
       "      <td>0</td>\n",
       "      <td>0</td>\n",
       "      <td>1</td>\n",
       "      <td>0</td>\n",
       "      <td>1</td>\n",
       "      <td>NaN</td>\n",
       "      <td>NaN</td>\n",
       "      <td>NaN</td>\n",
       "    </tr>\n",
       "    <tr>\n",
       "      <th>251</th>\n",
       "      <td>2</td>\n",
       "      <td>1</td>\n",
       "      <td>MI</td>\n",
       "      <td>RPS</td>\n",
       "      <td>1</td>\n",
       "      <td>4</td>\n",
       "      <td>JC Buttler</td>\n",
       "      <td>PA Patel</td>\n",
       "      <td>AB Dinda</td>\n",
       "      <td>0</td>\n",
       "      <td>...</td>\n",
       "      <td>0</td>\n",
       "      <td>0</td>\n",
       "      <td>0</td>\n",
       "      <td>0</td>\n",
       "      <td>5</td>\n",
       "      <td>0</td>\n",
       "      <td>5</td>\n",
       "      <td>NaN</td>\n",
       "      <td>NaN</td>\n",
       "      <td>NaN</td>\n",
       "    </tr>\n",
       "    <tr>\n",
       "      <th>252</th>\n",
       "      <td>2</td>\n",
       "      <td>1</td>\n",
       "      <td>MI</td>\n",
       "      <td>RPS</td>\n",
       "      <td>1</td>\n",
       "      <td>5</td>\n",
       "      <td>PA Patel</td>\n",
       "      <td>JC Buttler</td>\n",
       "      <td>AB Dinda</td>\n",
       "      <td>0</td>\n",
       "      <td>...</td>\n",
       "      <td>0</td>\n",
       "      <td>0</td>\n",
       "      <td>0</td>\n",
       "      <td>0</td>\n",
       "      <td>4</td>\n",
       "      <td>0</td>\n",
       "      <td>4</td>\n",
       "      <td>NaN</td>\n",
       "      <td>NaN</td>\n",
       "      <td>NaN</td>\n",
       "    </tr>\n",
       "  </tbody>\n",
       "</table>\n",
       "<p>5 rows × 21 columns</p>\n",
       "</div>"
      ],
      "text/plain": [
       "     match_id  inning batting_team bowling_team  over  ball     batsman  \\\n",
       "248         2       1           MI          RPS     1     1    PA Patel   \n",
       "249         2       1           MI          RPS     1     2    PA Patel   \n",
       "250         2       1           MI          RPS     1     3    PA Patel   \n",
       "251         2       1           MI          RPS     1     4  JC Buttler   \n",
       "252         2       1           MI          RPS     1     5    PA Patel   \n",
       "\n",
       "    non_striker    bowler  is_super_over  ...  bye_runs  legbye_runs  \\\n",
       "248  JC Buttler  AB Dinda              0  ...         0            0   \n",
       "249  JC Buttler  AB Dinda              0  ...         0            0   \n",
       "250  JC Buttler  AB Dinda              0  ...         0            0   \n",
       "251    PA Patel  AB Dinda              0  ...         0            0   \n",
       "252  JC Buttler  AB Dinda              0  ...         0            0   \n",
       "\n",
       "     noball_runs  penalty_runs  batsman_runs  extra_runs  total_runs  \\\n",
       "248            0             0             0           1           1   \n",
       "249            0             0             0           0           0   \n",
       "250            0             0             1           0           1   \n",
       "251            0             0             5           0           5   \n",
       "252            0             0             4           0           4   \n",
       "\n",
       "     player_dismissed dismissal_kind fielder  \n",
       "248               NaN            NaN     NaN  \n",
       "249               NaN            NaN     NaN  \n",
       "250               NaN            NaN     NaN  \n",
       "251               NaN            NaN     NaN  \n",
       "252               NaN            NaN     NaN  \n",
       "\n",
       "[5 rows x 21 columns]"
      ]
     },
     "execution_count": 62,
     "metadata": {},
     "output_type": "execute_result"
    }
   ],
   "source": [
    "mi_rps = MI_df2.loc[ (df2.batting_team=='RPS') | (df2.bowling_team=='RPS')  ]\n",
    "mi_rps.head()"
   ]
  },
  {
   "cell_type": "code",
   "execution_count": 64,
   "id": "15ab3c2c",
   "metadata": {},
   "outputs": [
    {
     "data": {
      "text/plain": [
       "1    311\n",
       "0    282\n",
       "4     70\n",
       "2     37\n",
       "6     36\n",
       "5      2\n",
       "3      1\n",
       "Name: total_runs, dtype: int64"
      ]
     },
     "execution_count": 64,
     "metadata": {},
     "output_type": "execute_result"
    }
   ],
   "source": [
    "# Number of boundaries against RPS\n",
    "mi_rps['total_runs'][ ((df2.batting_team=='MI') & (df2.bowling_team=='RPS')) ].value_counts()"
   ]
  },
  {
   "cell_type": "code",
   "execution_count": 71,
   "id": "469b25ec",
   "metadata": {},
   "outputs": [
    {
     "data": {
      "image/png": "[encoded data removed]",
      "text/plain": [
       "<Figure size 432x288 with 1 Axes>"
      ]
     },
     "metadata": {
      "needs_background": "light"
     },
     "output_type": "display_data"
    }
   ],
   "source": [
    "mi_rps['total_runs'][ ((df2.batting_team=='MI') & (df2.bowling_team=='RPS')) ].value_counts().plot(kind='bar')\n",
    "plt.xlabel(\"Number of runs per ball\")\n",
    "plt.xticks(rotation=0)\n",
    "plt.show()"
   ]
  },
  {
   "cell_type": "code",
   "execution_count": 88,
   "id": "f1f99846",
   "metadata": {},
   "outputs": [
    {
     "name": "stdout",
     "output_type": "stream",
     "text": [
      "Total balls played:  1450\n"
     ]
    }
   ],
   "source": [
    "# total balls played\n",
    "print(\"Total balls played: \",mi_rps.ball.value_counts().cumsum()[9])"
   ]
  },
  {
   "cell_type": "code",
   "execution_count": 92,
   "id": "71a230a6",
   "metadata": {},
   "outputs": [
    {
     "name": "stdout",
     "output_type": "stream",
     "text": [
      "Percentage of balls on which ONE run was scored: 21.448275862068968% \n",
      "Percentage of balls on which NO run was scored: 19.448275862068964%\n"
     ]
    }
   ],
   "source": [
    "print(\"Percentage of balls on which ONE run was scored: {}% \".format((311/1450)*100))\n",
    "print(\"Percentage of balls on which NO run was scored: {}%\".format((282/1450)*100))"
   ]
  },
  {
   "cell_type": "markdown",
   "id": "4fbeaa51",
   "metadata": {},
   "source": [
    "41% of balls played were wither dot or single, which caused the team to lose many matches"
   ]
  },
  {
   "cell_type": "code",
   "execution_count": 99,
   "id": "6c3b3900",
   "metadata": {},
   "outputs": [
    {
     "data": {
      "text/plain": [
       "array(['PA Patel', 'JC Buttler', 'RG Sharma', 'N Rana', 'AT Rayudu',\n",
       "       'KH Pandya', 'KA Pollard', 'HH Pandya', 'TG Southee', 'AM Rahane',\n",
       "       'MA Agarwal', 'SPD Smith', 'BA Stokes', 'MS Dhoni', 'RA Tripathi',\n",
       "       'MK Tiwary', 'DT Christian', 'Washington Sundar', 'KV Sharma',\n",
       "       'Harbhajan Singh', 'LMP Simmons', 'MJ McClenaghan', 'JJ Bumrah',\n",
       "       'SL Malinga', 'MG Johnson', 'S Gopal', 'R Vinay Kumar',\n",
       "       'F du Plessis', 'KP Pietersen', 'SS Tiwary', 'PSP Handscomb',\n",
       "       'NLTC Perera', 'R Bhatia'], dtype=object)"
      ]
     },
     "execution_count": 99,
     "metadata": {},
     "output_type": "execute_result"
    }
   ],
   "source": [
    "# batsman who scored most runs\n",
    "batsmen = mi_rps['batsman'].unique()\n",
    "batsmen"
   ]
  },
  {
   "cell_type": "code",
   "execution_count": 107,
   "id": "3aa0aecd",
   "metadata": {
    "scrolled": true
   },
   "outputs": [
    {
     "data": {
      "text/plain": [
       "[56, 59, 2, 28, 605, 577]"
      ]
     },
     "execution_count": 107,
     "metadata": {},
     "output_type": "execute_result"
    }
   ],
   "source": [
    "matches = mi_rps.match_id.value_counts().index.to_list()\n",
    "matches"
   ]
  },
  {
   "cell_type": "code",
   "execution_count": 164,
   "id": "77883717",
   "metadata": {},
   "outputs": [],
   "source": [
    "# finding the cumulative scores of each of the batsman for each match\n",
    "score_player = {}\n",
    "for match_num in matches:\n",
    "    for batman in batsmen:\n",
    "        if batman not in score_player.keys():\n",
    "            score_player[batman] = mi_rps.batsman_runs[ (mi_rps.batsman==batman) & (mi_rps.match_id==match_num)].sum()\n",
    "        else:\n",
    "            score_player[batman]+= mi_rps.batsman_runs[ (mi_rps.batsman==batman) & (mi_rps.match_id==match_num)].sum()\n",
    "            \n",
    "# sorting the dict based on runs scored\n",
    "score_player_sorted = sorted(score_player.items(), key=lambda x: x[1], reverse=True)"
   ]
  },
  {
   "cell_type": "code",
   "execution_count": 166,
   "id": "f3d8b8d3",
   "metadata": {},
   "outputs": [
    {
     "data": {
      "image/png": "[encoded data removed]",
      "text/plain": [
       "<Figure size 432x288 with 1 Axes>"
      ]
     },
     "metadata": {
      "needs_background": "light"
     },
     "output_type": "display_data"
    }
   ],
   "source": [
    "# getting top 10 run scorers against RPS\n",
    "score_player_sorted=score_player_sorted[:11]\n",
    "\n",
    "x_val = [x[0] for x in score_player_sorted]\n",
    "y_val = [x[1] for x in score_player_sorted]\n",
    "\n",
    "plt.bar(x_val,y_val,width=0.2)\n",
    "plt.xticks(rotation=45)\n",
    "plt.show()"
   ]
  },
  {
   "cell_type": "markdown",
   "id": "504b7025",
   "metadata": {},
   "source": [
    "These players can be the key run scorers for the team"
   ]
  },
  {
   "cell_type": "code",
   "execution_count": 172,
   "id": "a805d5fc",
   "metadata": {},
   "outputs": [
    {
     "name": "stdout",
     "output_type": "stream",
     "text": [
      "Average runs scored by AM Rahane per match are: 44.67\n",
      "Average runs scored by SPD Smith per match are: 33.00\n",
      "Average runs scored by RG Sharma per match are: 29.67\n",
      "Average runs scored by PA Patel per match are: 21.50\n",
      "Average runs scored by MS Dhoni per match are: 15.50\n",
      "Average runs scored by MK Tiwary per match are: 14.50\n",
      "Average runs scored by JC Buttler per match are: 13.67\n",
      "Average runs scored by HH Pandya per match are: 13.50\n",
      "Average runs scored by AT Rayudu per match are: 11.00\n",
      "Average runs scored by KH Pandya per match are: 10.83\n",
      "Average runs scored by SS Tiwary per match are: 9.50\n"
     ]
    }
   ],
   "source": [
    "# Average runs of these players by match\n",
    "for batman in x_val:\n",
    "    runs = (score_player[batman]) / len(matches)\n",
    "    print(\"Average runs scored by {0} per match are: {1:0.2f}\".format(batman,runs))"
   ]
  },
  {
   "cell_type": "code",
   "execution_count": 152,
   "id": "e8db9621",
   "metadata": {},
   "outputs": [
    {
     "data": {
      "text/plain": [
       "(18879, 21)"
      ]
     },
     "execution_count": 152,
     "metadata": {},
     "output_type": "execute_result"
    }
   ],
   "source": [
    "# most key bowlers against RPS\n",
    "mi_bowl = MI_df2.loc[ (df2.batting_team=='RPS') | (df2.bowling_team=='MI') ]\n",
    "mi_bowl.shape"
   ]
  },
  {
   "cell_type": "code",
   "execution_count": 153,
   "id": "4545f9c2",
   "metadata": {},
   "outputs": [
    {
     "data": {
      "text/html": [
       "<div>\n",
       "<style scoped>\n",
       "    .dataframe tbody tr th:only-of-type {\n",
       "        vertical-align: middle;\n",
       "    }\n",
       "\n",
       "    .dataframe tbody tr th {\n",
       "        vertical-align: top;\n",
       "    }\n",
       "\n",
       "    .dataframe thead th {\n",
       "        text-align: right;\n",
       "    }\n",
       "</style>\n",
       "<table border=\"1\" class=\"dataframe\">\n",
       "  <thead>\n",
       "    <tr style=\"text-align: right;\">\n",
       "      <th></th>\n",
       "      <th>match_id</th>\n",
       "      <th>inning</th>\n",
       "      <th>batting_team</th>\n",
       "      <th>bowling_team</th>\n",
       "      <th>over</th>\n",
       "      <th>ball</th>\n",
       "      <th>batsman</th>\n",
       "      <th>non_striker</th>\n",
       "      <th>bowler</th>\n",
       "      <th>is_super_over</th>\n",
       "      <th>...</th>\n",
       "      <th>bye_runs</th>\n",
       "      <th>legbye_runs</th>\n",
       "      <th>noball_runs</th>\n",
       "      <th>penalty_runs</th>\n",
       "      <th>batsman_runs</th>\n",
       "      <th>extra_runs</th>\n",
       "      <th>total_runs</th>\n",
       "      <th>player_dismissed</th>\n",
       "      <th>dismissal_kind</th>\n",
       "      <th>fielder</th>\n",
       "    </tr>\n",
       "  </thead>\n",
       "  <tbody>\n",
       "    <tr>\n",
       "      <th>373</th>\n",
       "      <td>2</td>\n",
       "      <td>2</td>\n",
       "      <td>RPS</td>\n",
       "      <td>MI</td>\n",
       "      <td>1</td>\n",
       "      <td>1</td>\n",
       "      <td>AM Rahane</td>\n",
       "      <td>MA Agarwal</td>\n",
       "      <td>TG Southee</td>\n",
       "      <td>0</td>\n",
       "      <td>...</td>\n",
       "      <td>0</td>\n",
       "      <td>0</td>\n",
       "      <td>0</td>\n",
       "      <td>0</td>\n",
       "      <td>1</td>\n",
       "      <td>0</td>\n",
       "      <td>1</td>\n",
       "      <td>NaN</td>\n",
       "      <td>NaN</td>\n",
       "      <td>NaN</td>\n",
       "    </tr>\n",
       "    <tr>\n",
       "      <th>374</th>\n",
       "      <td>2</td>\n",
       "      <td>2</td>\n",
       "      <td>RPS</td>\n",
       "      <td>MI</td>\n",
       "      <td>1</td>\n",
       "      <td>2</td>\n",
       "      <td>MA Agarwal</td>\n",
       "      <td>AM Rahane</td>\n",
       "      <td>TG Southee</td>\n",
       "      <td>0</td>\n",
       "      <td>...</td>\n",
       "      <td>0</td>\n",
       "      <td>0</td>\n",
       "      <td>0</td>\n",
       "      <td>0</td>\n",
       "      <td>4</td>\n",
       "      <td>0</td>\n",
       "      <td>4</td>\n",
       "      <td>NaN</td>\n",
       "      <td>NaN</td>\n",
       "      <td>NaN</td>\n",
       "    </tr>\n",
       "    <tr>\n",
       "      <th>375</th>\n",
       "      <td>2</td>\n",
       "      <td>2</td>\n",
       "      <td>RPS</td>\n",
       "      <td>MI</td>\n",
       "      <td>1</td>\n",
       "      <td>3</td>\n",
       "      <td>MA Agarwal</td>\n",
       "      <td>AM Rahane</td>\n",
       "      <td>TG Southee</td>\n",
       "      <td>0</td>\n",
       "      <td>...</td>\n",
       "      <td>0</td>\n",
       "      <td>0</td>\n",
       "      <td>0</td>\n",
       "      <td>0</td>\n",
       "      <td>0</td>\n",
       "      <td>1</td>\n",
       "      <td>1</td>\n",
       "      <td>NaN</td>\n",
       "      <td>NaN</td>\n",
       "      <td>NaN</td>\n",
       "    </tr>\n",
       "    <tr>\n",
       "      <th>376</th>\n",
       "      <td>2</td>\n",
       "      <td>2</td>\n",
       "      <td>RPS</td>\n",
       "      <td>MI</td>\n",
       "      <td>1</td>\n",
       "      <td>4</td>\n",
       "      <td>MA Agarwal</td>\n",
       "      <td>AM Rahane</td>\n",
       "      <td>TG Southee</td>\n",
       "      <td>0</td>\n",
       "      <td>...</td>\n",
       "      <td>0</td>\n",
       "      <td>0</td>\n",
       "      <td>0</td>\n",
       "      <td>0</td>\n",
       "      <td>1</td>\n",
       "      <td>0</td>\n",
       "      <td>1</td>\n",
       "      <td>NaN</td>\n",
       "      <td>NaN</td>\n",
       "      <td>NaN</td>\n",
       "    </tr>\n",
       "    <tr>\n",
       "      <th>377</th>\n",
       "      <td>2</td>\n",
       "      <td>2</td>\n",
       "      <td>RPS</td>\n",
       "      <td>MI</td>\n",
       "      <td>1</td>\n",
       "      <td>5</td>\n",
       "      <td>AM Rahane</td>\n",
       "      <td>MA Agarwal</td>\n",
       "      <td>TG Southee</td>\n",
       "      <td>0</td>\n",
       "      <td>...</td>\n",
       "      <td>0</td>\n",
       "      <td>0</td>\n",
       "      <td>0</td>\n",
       "      <td>0</td>\n",
       "      <td>0</td>\n",
       "      <td>0</td>\n",
       "      <td>0</td>\n",
       "      <td>NaN</td>\n",
       "      <td>NaN</td>\n",
       "      <td>NaN</td>\n",
       "    </tr>\n",
       "  </tbody>\n",
       "</table>\n",
       "<p>5 rows × 21 columns</p>\n",
       "</div>"
      ],
      "text/plain": [
       "     match_id  inning batting_team bowling_team  over  ball     batsman  \\\n",
       "373         2       2          RPS           MI     1     1   AM Rahane   \n",
       "374         2       2          RPS           MI     1     2  MA Agarwal   \n",
       "375         2       2          RPS           MI     1     3  MA Agarwal   \n",
       "376         2       2          RPS           MI     1     4  MA Agarwal   \n",
       "377         2       2          RPS           MI     1     5   AM Rahane   \n",
       "\n",
       "    non_striker      bowler  is_super_over  ...  bye_runs  legbye_runs  \\\n",
       "373  MA Agarwal  TG Southee              0  ...         0            0   \n",
       "374   AM Rahane  TG Southee              0  ...         0            0   \n",
       "375   AM Rahane  TG Southee              0  ...         0            0   \n",
       "376   AM Rahane  TG Southee              0  ...         0            0   \n",
       "377  MA Agarwal  TG Southee              0  ...         0            0   \n",
       "\n",
       "     noball_runs  penalty_runs  batsman_runs  extra_runs  total_runs  \\\n",
       "373            0             0             1           0           1   \n",
       "374            0             0             4           0           4   \n",
       "375            0             0             0           1           1   \n",
       "376            0             0             1           0           1   \n",
       "377            0             0             0           0           0   \n",
       "\n",
       "     player_dismissed dismissal_kind fielder  \n",
       "373               NaN            NaN     NaN  \n",
       "374               NaN            NaN     NaN  \n",
       "375               NaN            NaN     NaN  \n",
       "376               NaN            NaN     NaN  \n",
       "377               NaN            NaN     NaN  \n",
       "\n",
       "[5 rows x 21 columns]"
      ]
     },
     "execution_count": 153,
     "metadata": {},
     "output_type": "execute_result"
    }
   ],
   "source": [
    "mi_bowl.head()"
   ]
  },
  {
   "cell_type": "code",
   "execution_count": 154,
   "id": "dbcd12b9",
   "metadata": {},
   "outputs": [
    {
     "data": {
      "text/plain": [
       "array(['TG Southee', 'HH Pandya', 'MJ McClenaghan', 'JJ Bumrah',\n",
       "       'KH Pandya', 'KA Pollard', 'SL Malinga', 'Harbhajan Singh',\n",
       "       'MG Johnson', 'KV Sharma', 'R Vinay Kumar', 'A Nehra',\n",
       "       'SM Pollock', 'DS Kulkarni', 'ST Jayasuriya', 'AM Nayar',\n",
       "       'DJ Bravo', 'VS Yeligati', 'MA Khote', 'SD Chitnis',\n",
       "       'CRD Fernando', 'DJ Thornely', 'RR Raje', 'DR Smith', 'A Nel',\n",
       "       'Z Khan', 'SR Tendulkar', 'JP Duminy', 'GR Napier', 'C Nanda',\n",
       "       'AM Rahane', 'RA Shaikh', 'R McLaren', 'AG Murtaza', 'R Sathish',\n",
       "       'AN Ahmed', 'STR Binny', 'MM Patel', 'JEC Franklin', 'RG Sharma',\n",
       "       'TL Suman', 'A Symonds', 'RW Price', 'PP Ojha', 'RP Singh',\n",
       "       'CJ McKay', 'NLTC Perera', 'RJ Peterson', 'R Shukla', 'JDP Oram',\n",
       "       'R Dhawan', 'YS Chahal', 'P Suyal', 'GJ Maxwell',\n",
       "       'NM Coulter-Nile', 'CJ Anderson', 'P Kumar', 'LMP Simmons',\n",
       "       'K Santokie', 'S Gopal', 'M de Lange', 'J Suchith', 'N Rana'],\n",
       "      dtype=object)"
      ]
     },
     "execution_count": 154,
     "metadata": {},
     "output_type": "execute_result"
    }
   ],
   "source": [
    "# calculating runs conceded by every bowler\n",
    "bowlers = mi_bowl['bowler'].unique()\n",
    "bowlers"
   ]
  },
  {
   "cell_type": "code",
   "execution_count": 173,
   "id": "0665ad0e",
   "metadata": {},
   "outputs": [],
   "source": [
    "runs_conceded = {}\n",
    "for match_num in matches:\n",
    "    for bowler in bowlers:\n",
    "        if bowler not in runs_conceded.keys():\n",
    "            runs_conceded[bowler] = mi_bowl['batsman_runs'][mi_bowl['bowler']==bowler].sum()\n",
    "        else:\n",
    "            runs_conceded[bowler] += mi_bowl['batsman_runs'][mi_bowl['bowler']==bowler].sum()\n",
    "        \n",
    "runs_conceded_sorted = sorted(runs_conceded.items(), key=lambda x: x[1], reverse=True)"
   ]
  },
  {
   "cell_type": "code",
   "execution_count": 181,
   "id": "2a690178",
   "metadata": {},
   "outputs": [
    {
     "data": {
      "image/png": "[encoded data removed]",
      "text/plain": [
       "<Figure size 432x288 with 1 Axes>"
      ]
     },
     "metadata": {
      "needs_background": "light"
     },
     "output_type": "display_data"
    }
   ],
   "source": [
    "runs_conceded_sorted = runs_conceded_sorted[:11]\n",
    "x = [x[0] for x in runs_conceded_sorted]\n",
    "y = [x[1] for x in runs_conceded_sorted]\n",
    "\n",
    "plt.bar(x,y,width=0.2,color='purple')\n",
    "plt.xticks(rotation=90)\n",
    "plt.show()"
   ]
  },
  {
   "cell_type": "markdown",
   "id": "fca7dbab",
   "metadata": {},
   "source": [
    "These are the most expensive bowlers of our team"
   ]
  },
  {
   "cell_type": "markdown",
   "id": "3d33bae7",
   "metadata": {},
   "source": [
    "#### Bowlers with most wickets"
   ]
  },
  {
   "cell_type": "code",
   "execution_count": 193,
   "id": "8c32353f",
   "metadata": {},
   "outputs": [
    {
     "data": {
      "text/plain": [
       "17"
      ]
     },
     "execution_count": 193,
     "metadata": {},
     "output_type": "execute_result"
    }
   ],
   "source": [
    "mi_bowl.loc[(mi_bowl['player_dismissed'].notna()) & (mi_bowl['bowler']=='KH Pandya') ].shape[0]"
   ]
  },
  {
   "cell_type": "code",
   "execution_count": 196,
   "id": "15607742",
   "metadata": {},
   "outputs": [
    {
     "data": {
      "text/plain": [
       "[('SL Malinga', 170),\n",
       " ('Harbhajan Singh', 136),\n",
       " ('KA Pollard', 67),\n",
       " ('MJ McClenaghan', 56),\n",
       " ('JJ Bumrah', 53),\n",
       " ('MM Patel', 42),\n",
       " ('DS Kulkarni', 39),\n",
       " ('MG Johnson', 33),\n",
       " ('PP Ojha', 33),\n",
       " ('Z Khan', 31),\n",
       " ('DJ Bravo', 30)]"
      ]
     },
     "execution_count": 196,
     "metadata": {},
     "output_type": "execute_result"
    }
   ],
   "source": [
    "most_wickets = {}\n",
    "for bowler in bowlers:\n",
    "    if bowler not in most_wickets.keys():\n",
    "        most_wickets[bowler] = mi_bowl.loc[(mi_bowl['player_dismissed'].notna()) & (mi_bowl['bowler']==bowler) ].shape[0]\n",
    "\n",
    "        \n",
    "most_wickets_sorted = sorted(most_wickets.items(), key=lambda x: x[1], reverse=True)\n",
    "most_wickets_sorted = most_wickets_sorted[:11]\n",
    "most_wickets_sorted"
   ]
  },
  {
   "cell_type": "markdown",
   "id": "08e14ae2",
   "metadata": {},
   "source": [
    "These bowlers are the key bowlers for our team with most wickets"
   ]
  },
  {
   "cell_type": "code",
   "execution_count": 201,
   "id": "f752a752",
   "metadata": {},
   "outputs": [
    {
     "data": {
      "text/plain": [
       "{'DJ Bravo',\n",
       " 'DS Kulkarni',\n",
       " 'Harbhajan Singh',\n",
       " 'JJ Bumrah',\n",
       " 'KA Pollard',\n",
       " 'MG Johnson',\n",
       " 'MJ McClenaghan',\n",
       " 'MM Patel',\n",
       " 'PP Ojha',\n",
       " 'SL Malinga',\n",
       " 'Z Khan'}"
      ]
     },
     "execution_count": 201,
     "metadata": {},
     "output_type": "execute_result"
    }
   ],
   "source": [
    "# checking out our most expensive and most wicket taking bowlers\n",
    "exp = set(x)\n",
    "wic = set([x[0] for x in most_wickets_sorted])\n",
    "exp.intersection(wic)"
   ]
  },
  {
   "cell_type": "markdown",
   "id": "1f15b946",
   "metadata": {},
   "source": [
    "#### The coach needs to work on these bowlers to get the most out of them"
   ]
  },
  {
   "cell_type": "markdown",
   "id": "5e55edb5",
   "metadata": {},
   "source": [
    "# Conclusion: Based on the analysis, there is a good chance for Mumbai Indians to win the next IPL if they perform well against the most competitive teams mentioned."
   ]
  }
 ],
 "metadata": {
  "kernelspec": {
   "display_name": "Python 3",
   "language": "python",
   "name": "python3"
  },
  "language_info": {
   "codemirror_mode": {
    "name": "ipython",
    "version": 3
   },
   "file_extension": ".py",
   "mimetype": "text/x-python",
   "name": "python",
   "nbconvert_exporter": "python",
   "pygments_lexer": "ipython3",
   "version": "3.8.8"
  }
 },
 "nbformat": 4,
 "nbformat_minor": 5
}
